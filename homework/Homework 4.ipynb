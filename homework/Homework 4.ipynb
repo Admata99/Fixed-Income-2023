{
 "cells": [
  {
   "cell_type": "markdown",
   "id": "3e013a68",
   "metadata": {},
   "source": [
    "# Homework 4\n",
    "\n",
    "## FINM 37400 - 2023\n",
    "\n",
    "### UChicago Financial Mathematics\n",
    "\n",
    "* Mark Hendricks\n",
    "* hendricks@uchicago.edu"
   ]
  },
  {
   "cell_type": "markdown",
   "id": "ad9a8968",
   "metadata": {},
   "source": [
    "# 1 HBS Case: The Information Content of the Yield Curve"
   ]
  },
  {
   "cell_type": "markdown",
   "id": "6910f67a",
   "metadata": {},
   "source": [
    "Case questions posting by tomorrow."
   ]
  },
  {
   "cell_type": "markdown",
   "id": "78a91c5d",
   "metadata": {},
   "source": [
    "# 2 Calculating Forwards"
   ]
  },
  {
   "cell_type": "markdown",
   "id": "cd5bb194",
   "metadata": {},
   "source": [
    "Use the treasury issues in `'../data/selected_treasury_rates.xlsx.xlsx`. \n",
    "\n",
    "The selected treasuries are at nearly six-month intervals. Approximate that they mature at perfect 6-month intervals. (We are looking at them from the perspective of March 31, 2022.)"
   ]
  },
  {
   "cell_type": "markdown",
   "id": "a6099802",
   "metadata": {},
   "source": [
    "## 2.1 \n",
    "Bootstrap the discount factor. Plot the answer in terms of discount factors and discount rates.\n",
    "\n",
    "## 2.2\n",
    "Calculate the entire forward curve for rates from $T$ to $T+0.5$, ranging $T$ from 0.5 through 6.5.\n",
    "\n",
    "Plot the forward discount curve.\n",
    "\n",
    "## 2.3\n",
    "Use the discount factors to calculate the forward rate from $T_1=2$ to $T_2=2.5$.\n",
    "\n",
    "Do the same for $T_1=5$ to $T_2=5.5$.\n",
    "\n",
    "## 2.4\n",
    "Explain how an FRA between $T_1$ and $T_2$ would function. How is the rate calculated above involved?\n",
    "\n"
   ]
  }
 ],
 "metadata": {
  "hide_input": false,
  "kernelspec": {
   "display_name": "Python 3 (ipykernel)",
   "language": "python",
   "name": "python3"
  },
  "language_info": {
   "codemirror_mode": {
    "name": "ipython",
    "version": 3
   },
   "file_extension": ".py",
   "mimetype": "text/x-python",
   "name": "python",
   "nbconvert_exporter": "python",
   "pygments_lexer": "ipython3",
   "version": "3.9.7"
  }
 },
 "nbformat": 4,
 "nbformat_minor": 5
}
