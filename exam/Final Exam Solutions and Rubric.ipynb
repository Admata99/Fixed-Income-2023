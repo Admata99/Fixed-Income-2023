{
 "cells": [
  {
   "cell_type": "markdown",
   "metadata": {},
   "source": [
    "***"
   ]
  },
  {
   "cell_type": "markdown",
   "metadata": {
    "jp-MarkdownHeadingCollapsed": true,
    "tags": []
   },
   "source": [
    "# Final Exam Solution\n",
    "\n",
    "## FINM 37400 - 2023\n",
    "\n",
    "### UChicago Financial Mathematics\n",
    "\n",
    "* Mark Hendricks\n",
    "* hendricks@uchicago.edu\n",
    "\n",
    "Thanks to\n",
    "* Jeremy Bejarano\n",
    "* Jordan Sacks"
   ]
  },
  {
   "cell_type": "markdown",
   "metadata": {},
   "source": [
    "***"
   ]
  },
  {
   "cell_type": "markdown",
   "metadata": {},
   "source": [
    "# <span style=\"color:red\">Solutions</span>"
   ]
  },
  {
   "cell_type": "code",
   "execution_count": 1,
   "metadata": {},
   "outputs": [],
   "source": [
    "import pandas as pd\n",
    "import numpy as np\n",
    "import datetime\n",
    "import warnings\n",
    "\n",
    "from sklearn.linear_model import LinearRegression\n",
    "from sklearn.decomposition import PCA\n",
    "from scipy.optimize import minimize\n",
    "\n",
    "import matplotlib.pyplot as plt\n",
    "%matplotlib inline\n",
    "plt.rcParams['figure.figsize'] = (12,6)\n",
    "plt.rcParams['font.size'] = 15\n",
    "plt.rcParams['legend.fontsize'] = 13\n",
    "\n",
    "from matplotlib.ticker import (MultipleLocator,\n",
    "                               FormatStrFormatter,\n",
    "                               AutoMinorLocator)\n",
    "\n",
    "import sys\n",
    "sys.path.insert(0, '../cmds')\n",
    "from treasury_cmds import *"
   ]
  },
  {
   "cell_type": "markdown",
   "metadata": {},
   "source": [
    "### <span style=\"color:red\">Solution Option</span>\n",
    "\n",
    "Choose whether to use the discounts solved from 2.2 or provided in the file \n",
    "\n",
    "`simplified_spot_discounts_2022-12-30.xlsx`"
   ]
  },
  {
   "cell_type": "code",
   "execution_count": 2,
   "metadata": {},
   "outputs": [],
   "source": [
    "USE_SIMPLIFIED_SPOT = False"
   ]
  },
  {
   "cell_type": "markdown",
   "metadata": {},
   "source": [
    "# Instructions"
   ]
  },
  {
   "cell_type": "markdown",
   "metadata": {},
   "source": [
    "## Please note the following:\n",
    "\n",
    "Points\n",
    "* The exam is 180 points.\n",
    "* You have 180 minutes to complete the exam.\n",
    "* For every minute late you submit the exam, you will lose one point.\n",
    "Final Exam\n",
    "\n",
    "Submission\n",
    "* You will upload your solution to the Final Exam assignment on Canvas, where you downloaded this.\n",
    "* Your submission should be readable, (the graders can understand your answers,) and it should include all code used in your analysis in a file format that the code can be executed. (ie. .ipynb preferred, .pdf is unacceptable.)\n",
    "\n",
    "Rules\n",
    "* The exam is open-material, closed-communication.\n",
    "* You do not need to cite material from the course github repo--you are welcome to use the code posted there without citation, (only for this exam.)\n",
    "\n",
    "Advice\n",
    "* If you find any question to be unclear, state your interpretation and proceed. We will only answer questions of interpretation if there is a typo, error, etc.\n",
    "* The exam will be graded for partial credit."
   ]
  },
  {
   "cell_type": "markdown",
   "metadata": {},
   "source": [
    "## Data\n",
    "\n",
    "**All data files are found in the class github repo, in the `data` folder.**\n",
    "\n",
    "This exam makes use of the following data files:\n",
    "\n",
    "### Sections 2, 3, 4\n",
    "* `treasury_ts_2020-08-15.xlsx`\n",
    "\n",
    "If you get stuck on 2.2, you can replace that answer with the data in \n",
    "* `simplified_spot_discounts_2022-12-30.xlsx`\n",
    "\n",
    "But if you solve 2.2, then you'll have no use/need of this data.\n",
    "\n",
    "### Section 5\n",
    "* `treasury_ts_2020-08-15.xlsx`"
   ]
  },
  {
   "cell_type": "markdown",
   "metadata": {},
   "source": [
    "## Scoring\n",
    "\n",
    "| Problem | Points |\n",
    "|---------|--------|\n",
    "| 1       | 50     |\n",
    "| 2       | 25     |\n",
    "| 3       | 35     |\n",
    "| 4       | 20     |\n",
    "| 5       | 50     |"
   ]
  },
  {
   "cell_type": "markdown",
   "metadata": {},
   "source": [
    "# 1. Short Answer"
   ]
  },
  {
   "cell_type": "markdown",
   "metadata": {},
   "source": [
    "### No Data Needed\n",
    "\n",
    "These problem does not require any data file. Rather, analyze the situation conceptually, based on the information below. \n",
    "\n",
    "A few questions may require simple arithmetic."
   ]
  },
  {
   "cell_type": "markdown",
   "metadata": {},
   "source": [
    "## 1.1 (5pts)\n",
    "\n",
    "True or False: The spot rate prices a particular security, and YTM prices any cashflow at a particular maturity.\n",
    "\n",
    "Explain your answer."
   ]
  },
  {
   "cell_type": "markdown",
   "metadata": {},
   "source": [
    "## 1.2 (5pts)\n",
    "\n",
    "Suppose the duration of a bond is 7.0. The current price of the bond is 99.8 and the YTM of the bond is 3.27\\%. \n",
    "\n",
    "The spot-rate curve moves up in a parallel shift by 10bps. \n",
    "\n",
    "* What is the approximate price of the bond after the shift?\n",
    "\n",
    "* Do you suspect this approximation is an underestimate or overestimate? "
   ]
  },
  {
   "cell_type": "markdown",
   "metadata": {},
   "source": [
    "## 1.3 (5pts)\n",
    "\n",
    "Are duration-based approximations of bond prices more accurate for a Treasury with high coupon rate or low coupon rate, (holding other things, like time-to-maturity, equal?)"
   ]
  },
  {
   "cell_type": "markdown",
   "metadata": {},
   "source": [
    "## 1.4 (5pts)\n",
    "\n",
    "Which tend to be less smooth: spot curves or forward curves? \n",
    "\n",
    "Explain."
   ]
  },
  {
   "cell_type": "markdown",
   "metadata": {},
   "source": [
    "## 1.5 (5pts)\n",
    "\n",
    "True or False: Bond prices and returns have nearly zero serial correlation.\n",
    "\n",
    "Explain your answer."
   ]
  },
  {
   "cell_type": "markdown",
   "metadata": {},
   "source": [
    "## 1.6 (5pts)\n",
    "\n",
    "As of Dec 2022, the yield curve is \"inverted\"?\n",
    "\n",
    "Does this inversion mathematically imply that expected future spot rates will decline, or is there potentially another explanation?"
   ]
  },
  {
   "cell_type": "markdown",
   "metadata": {},
   "source": [
    "## 1.7 (5pts)\n",
    "\n",
    "Suppose we want to estimate a discount curve from a set of Treasuries.\n",
    "\n",
    "If there are dates where multiple treasuries pay a coupon yet none expire, which of our estimation methods have trouble?\n",
    "* Bootstrap\n",
    "* OLS\n",
    "* Nelson-Siegel\n",
    "\n",
    "Explain."
   ]
  },
  {
   "cell_type": "markdown",
   "metadata": {},
   "source": [
    "## 1.8 (5pts)\n",
    "\n",
    "Suppose that yesterday you built a position\n",
    "* long a 10-year floating-rate note that resets quarterly\n",
    "* short a 5-year floating-rate note that resets annually\n",
    "\n",
    "Is your duration positive or negative? How about four years from today?\n",
    "\n",
    "Explain."
   ]
  },
  {
   "cell_type": "markdown",
   "metadata": {},
   "source": [
    "## 1.9 (10pts)\n",
    "\n",
    "### Situation\n",
    "Suppose it is Aug 15, 2022. We observe the following annual rates, (semiannually compounded):\n",
    "* 7-year T-note (newly issued) has a price of par, with a coupon of 3.50%.\n",
    "* 7-year swap (semi-annual, SOFR) has a swap rate of 3.00%.\n",
    "\n",
    "*Assume the floating leg equals the repo rate and timing.*\n",
    "\n",
    "### 1.9.1\n",
    "**Conceptually**, explain the short and long positions you would take (on notional of \\\\$100 million) in order to try to profit on this spread **diverging** further, meaning the treasury rate going higher relative to the swap rate.\n",
    "\n",
    "### 1.9.2\n",
    "\n",
    "Suppose that it is February 15, 2023, immediately after the swap has reset and the cashflows of the trade were settled.\n",
    "\n",
    "In the market, we observe the following:\n",
    "* The 5-year swap rate is 3.50%.\n",
    "* The 5-year Treasury has a yield-to-maturity of 4.25%. \n",
    "\n",
    "**Conceptually**, How has the value changed between over the six months of each component of the trade?\n",
    "* swap \n",
    "* T-note"
   ]
  },
  {
   "cell_type": "markdown",
   "metadata": {},
   "source": [
    "***"
   ]
  },
  {
   "cell_type": "markdown",
   "metadata": {},
   "source": [
    "# <span style=\"color:red\">Solution 1</span>\n",
    "\n",
    "#### <span style=\"color:green\">RUBRIC</span>\n",
    "\n",
    "1.1\n",
    "\n",
    "- 2 pts for FALSE\n",
    "- 1.5 pts for correct explanation on YTM. Must mention that YTM is defined for a particular security or a function of the security's price\n",
    "- 1.5 pts for correct explanation on spot curve. Must mention that the spot curve identifies discounts/factors/rates so that it can price any cashflow\n",
    "\n",
    "1.2\n",
    "\n",
    "- 3pts for calculating the approximate price correctly\n",
    "- 2pts for identifying it is an underestimate and correct explanation (-1pt if explanation is incorrect. Must mention the nonlinearity of the price-to-ytm relationship or that a general property of duration is that it is an underestimate.\n",
    "\n",
    "1.3\n",
    "\n",
    "- 2 pts for specifying larger coupons\n",
    "- 3 pts for correct explanation. Must specify either (1) larger coupons have less convexity (2) nonlinearity of compounding discount rates\n",
    "\n",
    "1.4\n",
    "\n",
    "- 2 pts for correctly specifying forward curves as less smooth. \n",
    "- 3 pts for correct explanation. Must mention the extraction of forward curves from spot curves and the increase in error estimation that arises. This can be explained via a class example.\n",
    "\n",
    "1.5\n",
    "\n",
    "- 2 pts for FALSE\n",
    "- 3 pts for correct explanation. Must mention the path of returns when held to maturity and how it is serially correlated with prior returns\n",
    "\n",
    "1.6\n",
    "\n",
    "- 2 pts for specifying NO\n",
    "- 3 pts for correct explanation. Must mention either (1) that the expectations hypothesis does not hold or is not a mathematical certainty (2) the shape of the yield curve is an expression of term premia and not forecast of future rates\n",
    "\n",
    "1.7\n",
    "\n",
    "- 1.5 pts for specifying Bootstrap\n",
    "- 1.5 pts for specifying OLS\n",
    "- 2 pts for correct explanation. Must mention that the system of equations is undetermined or multicollinearity issues(1pt) and Nelson-Siegal is based on a few parameters and thus can be estimated from a partial set (1pt)\n",
    "\n",
    "1.8\n",
    "\n",
    "- 1.5pts for specifying negative duration\n",
    "- 1.5pts for specifying that it is unchanged 4 years later\n",
    "- 2 pts for correct explanation. Must mention that FRNs duration is based on time-to-reset\n",
    "\n",
    "1.9\n",
    "\n",
    "- 5 pts for correctly specifying the positions taken in 1.9.1\n",
    "- 2 pts for correctly specifying that the T-note has decreased in value / price decreased leading to a net profit on this component (1 pt) and fixed-receiving swap has decreased in value (1pt).\n",
    "- 3 pts for mentioning atleast 2 of the \"excellent answer notes\" listed above (1.5pts each). "
   ]
  },
  {
   "cell_type": "markdown",
   "metadata": {},
   "source": [
    "## <span style=\"color:red\">1.1</span>"
   ]
  },
  {
   "cell_type": "markdown",
   "metadata": {},
   "source": [
    "False.\n",
    "\n",
    "YTM is defined for a particular security, and it is simply another way of stating the security's price, (and thus can be used to price the security.)\n",
    "\n",
    "The spot curve gives discounts (factors or rates) for any (risk-free) cashflow at a particular maturity. Thus, the spot curve is useful in pricing any cashflow."
   ]
  },
  {
   "cell_type": "markdown",
   "metadata": {},
   "source": [
    "## <span style=\"color:red\">1.2</span>"
   ]
  },
  {
   "cell_type": "markdown",
   "metadata": {},
   "source": [
    "Recall the approximation:\n",
    "\n",
    "$$P_{\\text{new}} - P_{\\text{old}} =  - P_{\\text{old}}D dr $$\n",
    "\n",
    "#### Caution\n",
    "\n",
    "The problem did not state the compounding frequency of the provided YTM. Typically, this is understood as semiannual, but fine if someone assumed a different compounding. The calculation below allows the FREQ parameter to adjust that."
   ]
  },
  {
   "cell_type": "code",
   "execution_count": 3,
   "metadata": {},
   "outputs": [
    {
     "data": {
      "text/plain": [
       "'The new price as estimated by modified duration is: 99.11.'"
      ]
     },
     "metadata": {},
     "output_type": "display_data"
    }
   ],
   "source": [
    "FREQ = 2\n",
    "\n",
    "duration = 7\n",
    "px = 99.8\n",
    "ytm = .0327\n",
    "shift = .0010\n",
    "\n",
    "mod_duration = duration / (1+ytm/FREQ)\n",
    "\n",
    "px_new = px * (1 - mod_duration * shift)\n",
    "\n",
    "display(f'The new price as estimated by modified duration is: {px_new:.2f}.')"
   ]
  },
  {
   "cell_type": "markdown",
   "metadata": {},
   "source": [
    "**It is an underestimate of the true price.**\n",
    "\n",
    "This is due to the nonlinearity (convexity) of the price-to-ytm relationship."
   ]
  },
  {
   "cell_type": "markdown",
   "metadata": {},
   "source": [
    "## <span style=\"color:red\">1.3</span>"
   ]
  },
  {
   "cell_type": "markdown",
   "metadata": {},
   "source": [
    "Duration-approximated price will be more accurate for bonds where the convexity term is small.\n",
    "\n",
    "Bonds with larger coupons have less convexity, given that the nonlinearity of compounding discount rates has less time to operate on near-term cashflows.\n",
    "\n",
    "#### Pedagogical point\n",
    "\n",
    "This is seen in an extreme form in the amortized bond of Problem 3 below."
   ]
  },
  {
   "cell_type": "markdown",
   "metadata": {},
   "source": [
    "## <span style=\"color:red\">1.4</span>"
   ]
  },
  {
   "cell_type": "markdown",
   "metadata": {},
   "source": [
    "As discussed, forward curves tend to be less smooth than spot curves. In particular, this was relevant in that even if OLS extracts a reasonably behaved spot curve, we discussed that it often implies an unreasonably behaved forward curve."
   ]
  },
  {
   "cell_type": "markdown",
   "metadata": {},
   "source": [
    "## <span style=\"color:red\">1.5</span>"
   ]
  },
  {
   "cell_type": "markdown",
   "metadata": {},
   "source": [
    "False.\n",
    "\n",
    "We saw in W.2. that bond prices (and returns) are NOT like equities, but rather have substantial serial correlation. \n",
    "\n",
    "In particular, if the bond price goes up unexpectedly high today, its growth in the future must be lower than was originally expected. This is due to the fixed end point of the price at maturity."
   ]
  },
  {
   "cell_type": "markdown",
   "metadata": {},
   "source": [
    "## <span style=\"color:red\">1.6</span>"
   ]
  },
  {
   "cell_type": "markdown",
   "metadata": {},
   "source": [
    "No, the inverted yield curve may be a statistical signal of declining spot rates, but it is not a mathematical certainty.\n",
    "\n",
    "This is because there is a term premium in bonds, and thus the expectations hypothesis does not hold exactly. It is possible for a declining yield curve to be an expression of term premia rather than a declining forecasted spot rate. This is at the crux of the issue in the final case study."
   ]
  },
  {
   "cell_type": "markdown",
   "metadata": {},
   "source": [
    "## <span style=\"color:red\">1.7</span>"
   ]
  },
  {
   "cell_type": "markdown",
   "metadata": {},
   "source": [
    "Bootstrap and OLS will both fail.\n",
    "\n",
    "Nelson-Siegel will be okay.\n",
    "\n",
    "The issue for Bootstrap and OLS is that this cashflow matrix means the system of linear equations is undetermined. The discounts at the dates without maturities are unidentified by this system.\n",
    "\n",
    "Nelson-Siegel does not have this problem, as with a few parameters, it sets the entire discount curve. These parameters can be estimated from a partial set of maturities, (though it may fit the other maturities poorly.)"
   ]
  },
  {
   "cell_type": "markdown",
   "metadata": {},
   "source": [
    "## <span style=\"color:red\">1.8</span>"
   ]
  },
  {
   "cell_type": "markdown",
   "metadata": {},
   "source": [
    "Floating-Rate Notes (FRNs) do not have duration built on time-to-maturity, but rather time-to-reset.\n",
    "\n",
    "Thus, the annually resetting FRN has the longer duration, notwithstanding its shorter time-to-maturity.\n",
    "\n",
    "This logic is not changed four years later. \n",
    "\n",
    "Thus, at both times, **your position has negative duration**. (That is, the short position has more duration than the long position.)"
   ]
  },
  {
   "cell_type": "markdown",
   "metadata": {},
   "source": [
    "## <span style=\"color:red\">1.9</span>"
   ]
  },
  {
   "cell_type": "markdown",
   "metadata": {},
   "source": [
    "To position for further divergence...\n",
    "* short $100 million notional of the T-note \n",
    "* enter a fixed-receiving swap\n",
    "\n",
    "In Aug 2023,\n",
    "* T-note has **decreased** in value\n",
    "* fixed-receiving swap has decreased in value\n",
    "\n",
    "#### An excellent answer should note\n",
    "\n",
    "1. **Net PnL**, given the divergence of the spread, the decrease in the short position on the T-note should provide more than enough profit to offset the loss on the fixed-receiving swap, thus providing a net profit.\n",
    "\n",
    "1. Aside from the PnL on the positions as of Aug 15, there is also a **cashflow issue**. The coupon paid on the T-note will be further cash outflow given that the fixed swap payment will not fully offset it.\n",
    "\n",
    "1. **Shorting via reverse repo**. We short the T-note by entering into a reverse repo, where we purchase the notes from the repo counterparty and immediately sell them. We will later need to repurchase them at a market price in order to sell them back to the repo party at the previous market price."
   ]
  },
  {
   "cell_type": "markdown",
   "metadata": {},
   "source": [
    "***"
   ]
  },
  {
   "cell_type": "markdown",
   "metadata": {},
   "source": [
    "# 2 Basic Pricing"
   ]
  },
  {
   "cell_type": "markdown",
   "metadata": {},
   "source": [
    "Use the selected treasury quotes in the file, `selected_treasury_quotes_quotes_2022-12-30.xlsx`.\n",
    "\n",
    "Data is provided on 10 Treasury issues which mature every six months over the next five years.\n",
    "\n",
    "*You are welcome to assume that the issues mature in exactly half-year increments, notwithstanding that in actual trading they may have day-count issues causing them to be slightly above/below half-year increments.*"
   ]
  },
  {
   "cell_type": "markdown",
   "metadata": {},
   "source": [
    "## 2.1 (5pts)\n",
    "\n",
    "Calculate the cashflow matrix for the treasury issues.\n",
    "\n",
    "Display the table."
   ]
  },
  {
   "cell_type": "markdown",
   "metadata": {},
   "source": [
    "## 2.2 (5pts)\n",
    "\n",
    "Use the bootstrap (or OLS) to extract the spot discount factors from this data, over the maturity range of 0.5 to 5, in half-year increments."
   ]
  },
  {
   "cell_type": "markdown",
   "metadata": {},
   "source": [
    "### Note: If you couldn't extract spot discount factors...\n",
    "\n",
    "Several problems below make use of the spot discounts on Dec 30, 2022.\n",
    "\n",
    "**If you were unable to calculate the answer to 2.3,** feel free to use the simplified discount factors, $Z(t,T)$ provided in the file `simplified_spot_discounts_2022-12-30.xlsx`.\n",
    "\n",
    "Note that the rates in this file are simplified and won't match the answer you'll get if you solve Problem 2.2 above, so don't try to check your answer with them.\n",
    "\n",
    "If you are proceeding with the simplified rates rather than your estimates in 2.2, **state that clearly.**\n",
    "\n",
    "And again, this is **just provided as a help for anyone who couldn't solve 2.2**, so that they can continue with 2.3-2.5, as well as other problems in the exam."
   ]
  },
  {
   "cell_type": "markdown",
   "metadata": {},
   "source": [
    "## 2.3 (5pts)\n",
    "\n",
    "Report the \n",
    "* semi-annually-compounded spot discount **rates** derived from the discount factors above.\n",
    "* continuously-compounded spot rates."
   ]
  },
  {
   "cell_type": "markdown",
   "metadata": {},
   "source": [
    "## 2.4 (3pts)\n",
    "\n",
    "Without any calculation, just looking at your spot rates from 2.3, is the long-end of the forward curve below or above the spot-rate curve? How do you know?"
   ]
  },
  {
   "cell_type": "markdown",
   "metadata": {},
   "source": [
    "## 2.5 (7pts)\n",
    "Calculate and report the continuously-compounded forward-rate curve, $f(t,T,T+1)$, for $0\\le T \\le 4$.\n",
    "\n",
    "Also report the forward rate, $f(t,T_1,T_2)$, for $T_1=3, T_2=5$."
   ]
  },
  {
   "cell_type": "markdown",
   "metadata": {},
   "source": [
    "***"
   ]
  },
  {
   "cell_type": "markdown",
   "metadata": {},
   "source": [
    "# <span style=\"color:red\">Solution 2</span>\n",
    "\n",
    "#### <span style=\"color:green\">RUBRIC</span>\n",
    "\n",
    "2.1\n",
    "\n",
    "- 4 pts for correct cashflow matrix\n",
    "- 1 pt for adding the principle back at the maturity date\n",
    "\n",
    "2.2\n",
    "\n",
    "- 2 pts for correct maturities\n",
    "- 3 pts for correct discount factors\n",
    "\n",
    "2.3\n",
    "\n",
    "- 2.5pts for correct semiannual spot rates\n",
    "- 2.5pts for correct continous spot rates\n",
    "\n",
    "2.4\n",
    "\n",
    "- 1 pts for correctly specifying that the forward curve is below the spot curve\n",
    "- 2 pts for correct explanation about the spot curve decreasing over the long rates\n",
    "\n",
    "2.5\n",
    "\n",
    "- 2 pts for correct interval\n",
    "- 3 pts for correct continous forward rates. Full pts will be given if incorrect interval is used but the forward rates are calculated correctly using this erroneous interval.\n",
    "- 2 pts for correct $f(t,3,5)$ Like the above, 1 pt will be provided if steps prior were incorrect but steps for calculating this forward rate is correct"
   ]
  },
  {
   "cell_type": "code",
   "execution_count": 4,
   "metadata": {},
   "outputs": [
    {
     "data": {
      "text/html": [
       "<div>\n",
       "<style scoped>\n",
       "    .dataframe tbody tr th:only-of-type {\n",
       "        vertical-align: middle;\n",
       "    }\n",
       "\n",
       "    .dataframe tbody tr th {\n",
       "        vertical-align: top;\n",
       "    }\n",
       "\n",
       "    .dataframe thead th {\n",
       "        text-align: right;\n",
       "    }\n",
       "</style>\n",
       "<table border=\"1\" class=\"dataframe\">\n",
       "  <thead>\n",
       "    <tr style=\"text-align: right;\">\n",
       "      <th></th>\n",
       "      <th>issue date</th>\n",
       "      <th>maturity date</th>\n",
       "      <th>maturity</th>\n",
       "      <th>coupon rate</th>\n",
       "      <th>price</th>\n",
       "      <th>ytm</th>\n",
       "    </tr>\n",
       "    <tr>\n",
       "      <th>KYTREASNO</th>\n",
       "      <th></th>\n",
       "      <th></th>\n",
       "      <th></th>\n",
       "      <th></th>\n",
       "      <th></th>\n",
       "      <th></th>\n",
       "    </tr>\n",
       "  </thead>\n",
       "  <tbody>\n",
       "    <tr>\n",
       "      <th>206990</th>\n",
       "      <td>2016-06-30</td>\n",
       "      <td>2023-06-30</td>\n",
       "      <td>0.498289</td>\n",
       "      <td>1.375</td>\n",
       "      <td>98.460938</td>\n",
       "      <td>0.044952</td>\n",
       "    </tr>\n",
       "    <tr>\n",
       "      <th>207047</th>\n",
       "      <td>2016-12-31</td>\n",
       "      <td>2023-12-31</td>\n",
       "      <td>1.002053</td>\n",
       "      <td>2.250</td>\n",
       "      <td>97.585938</td>\n",
       "      <td>0.046915</td>\n",
       "    </tr>\n",
       "    <tr>\n",
       "      <th>207374</th>\n",
       "      <td>2019-06-30</td>\n",
       "      <td>2024-06-30</td>\n",
       "      <td>1.500342</td>\n",
       "      <td>1.750</td>\n",
       "      <td>95.851562</td>\n",
       "      <td>0.045942</td>\n",
       "    </tr>\n",
       "    <tr>\n",
       "      <th>207166</th>\n",
       "      <td>2017-12-31</td>\n",
       "      <td>2024-12-31</td>\n",
       "      <td>2.004107</td>\n",
       "      <td>2.250</td>\n",
       "      <td>95.859375</td>\n",
       "      <td>0.043822</td>\n",
       "    </tr>\n",
       "    <tr>\n",
       "      <th>207224</th>\n",
       "      <td>2018-06-30</td>\n",
       "      <td>2025-06-30</td>\n",
       "      <td>2.499658</td>\n",
       "      <td>2.750</td>\n",
       "      <td>96.429688</td>\n",
       "      <td>0.042295</td>\n",
       "    </tr>\n",
       "    <tr>\n",
       "      <th>207652</th>\n",
       "      <td>2020-12-31</td>\n",
       "      <td>2025-12-31</td>\n",
       "      <td>3.003422</td>\n",
       "      <td>0.375</td>\n",
       "      <td>89.378906</td>\n",
       "      <td>0.041313</td>\n",
       "    </tr>\n",
       "    <tr>\n",
       "      <th>207731</th>\n",
       "      <td>2021-06-30</td>\n",
       "      <td>2026-06-30</td>\n",
       "      <td>3.498973</td>\n",
       "      <td>0.875</td>\n",
       "      <td>89.460938</td>\n",
       "      <td>0.041003</td>\n",
       "    </tr>\n",
       "    <tr>\n",
       "      <th>207821</th>\n",
       "      <td>2021-12-31</td>\n",
       "      <td>2026-12-31</td>\n",
       "      <td>4.002738</td>\n",
       "      <td>1.250</td>\n",
       "      <td>89.562500</td>\n",
       "      <td>0.040628</td>\n",
       "    </tr>\n",
       "    <tr>\n",
       "      <th>207561</th>\n",
       "      <td>2020-06-30</td>\n",
       "      <td>2027-06-30</td>\n",
       "      <td>4.498289</td>\n",
       "      <td>0.500</td>\n",
       "      <td>85.562500</td>\n",
       "      <td>0.040027</td>\n",
       "    </tr>\n",
       "    <tr>\n",
       "      <th>207989</th>\n",
       "      <td>2022-12-31</td>\n",
       "      <td>2027-12-31</td>\n",
       "      <td>5.002053</td>\n",
       "      <td>3.875</td>\n",
       "      <td>99.417969</td>\n",
       "      <td>0.039634</td>\n",
       "    </tr>\n",
       "  </tbody>\n",
       "</table>\n",
       "</div>"
      ],
      "text/plain": [
       "          issue date maturity date  maturity  coupon rate      price       ytm\n",
       "KYTREASNO                                                                     \n",
       "206990    2016-06-30    2023-06-30  0.498289        1.375  98.460938  0.044952\n",
       "207047    2016-12-31    2023-12-31  1.002053        2.250  97.585938  0.046915\n",
       "207374    2019-06-30    2024-06-30  1.500342        1.750  95.851562  0.045942\n",
       "207166    2017-12-31    2024-12-31  2.004107        2.250  95.859375  0.043822\n",
       "207224    2018-06-30    2025-06-30  2.499658        2.750  96.429688  0.042295\n",
       "207652    2020-12-31    2025-12-31  3.003422        0.375  89.378906  0.041313\n",
       "207731    2021-06-30    2026-06-30  3.498973        0.875  89.460938  0.041003\n",
       "207821    2021-12-31    2026-12-31  4.002738        1.250  89.562500  0.040628\n",
       "207561    2020-06-30    2027-06-30  4.498289        0.500  85.562500  0.040027\n",
       "207989    2022-12-31    2027-12-31  5.002053        3.875  99.417969  0.039634"
      ]
     },
     "execution_count": 4,
     "metadata": {},
     "output_type": "execute_result"
    }
   ],
   "source": [
    "filepath = '../data/selected_treasury_quotes_2022-12-30.xlsx'\n",
    "quotes = pd.read_excel(filepath, sheet_name='quotes').set_index('KYTREASNO')\n",
    "quotes"
   ]
  },
  {
   "cell_type": "markdown",
   "metadata": {},
   "source": [
    "## <span style=\"color:red\">2.1</span>"
   ]
  },
  {
   "cell_type": "code",
   "execution_count": 5,
   "metadata": {},
   "outputs": [
    {
     "data": {
      "text/html": [
       "<div>\n",
       "<style scoped>\n",
       "    .dataframe tbody tr th:only-of-type {\n",
       "        vertical-align: middle;\n",
       "    }\n",
       "\n",
       "    .dataframe tbody tr th {\n",
       "        vertical-align: top;\n",
       "    }\n",
       "\n",
       "    .dataframe thead th {\n",
       "        text-align: right;\n",
       "    }\n",
       "</style>\n",
       "<table border=\"1\" class=\"dataframe\">\n",
       "  <thead>\n",
       "    <tr style=\"text-align: right;\">\n",
       "      <th>maturity date</th>\n",
       "      <th>2023-06-30</th>\n",
       "      <th>2023-12-31</th>\n",
       "      <th>2024-06-30</th>\n",
       "      <th>2024-12-31</th>\n",
       "      <th>2025-06-30</th>\n",
       "      <th>2025-12-31</th>\n",
       "      <th>2026-06-30</th>\n",
       "      <th>2026-12-31</th>\n",
       "      <th>2027-06-30</th>\n",
       "      <th>2027-12-31</th>\n",
       "    </tr>\n",
       "    <tr>\n",
       "      <th>KYTREASNO</th>\n",
       "      <th></th>\n",
       "      <th></th>\n",
       "      <th></th>\n",
       "      <th></th>\n",
       "      <th></th>\n",
       "      <th></th>\n",
       "      <th></th>\n",
       "      <th></th>\n",
       "      <th></th>\n",
       "      <th></th>\n",
       "    </tr>\n",
       "  </thead>\n",
       "  <tbody>\n",
       "    <tr>\n",
       "      <th>206990</th>\n",
       "      <td>100.6875</td>\n",
       "      <td>0.0000</td>\n",
       "      <td>0.0000</td>\n",
       "      <td>0.0000</td>\n",
       "      <td>0.0000</td>\n",
       "      <td>0.0000</td>\n",
       "      <td>0.0000</td>\n",
       "      <td>0.0000</td>\n",
       "      <td>0.0000</td>\n",
       "      <td>0.0000</td>\n",
       "    </tr>\n",
       "    <tr>\n",
       "      <th>207047</th>\n",
       "      <td>1.1250</td>\n",
       "      <td>101.1250</td>\n",
       "      <td>0.0000</td>\n",
       "      <td>0.0000</td>\n",
       "      <td>0.0000</td>\n",
       "      <td>0.0000</td>\n",
       "      <td>0.0000</td>\n",
       "      <td>0.0000</td>\n",
       "      <td>0.0000</td>\n",
       "      <td>0.0000</td>\n",
       "    </tr>\n",
       "    <tr>\n",
       "      <th>207374</th>\n",
       "      <td>0.8750</td>\n",
       "      <td>0.8750</td>\n",
       "      <td>100.8750</td>\n",
       "      <td>0.0000</td>\n",
       "      <td>0.0000</td>\n",
       "      <td>0.0000</td>\n",
       "      <td>0.0000</td>\n",
       "      <td>0.0000</td>\n",
       "      <td>0.0000</td>\n",
       "      <td>0.0000</td>\n",
       "    </tr>\n",
       "    <tr>\n",
       "      <th>207166</th>\n",
       "      <td>1.1250</td>\n",
       "      <td>1.1250</td>\n",
       "      <td>1.1250</td>\n",
       "      <td>101.1250</td>\n",
       "      <td>0.0000</td>\n",
       "      <td>0.0000</td>\n",
       "      <td>0.0000</td>\n",
       "      <td>0.0000</td>\n",
       "      <td>0.0000</td>\n",
       "      <td>0.0000</td>\n",
       "    </tr>\n",
       "    <tr>\n",
       "      <th>207224</th>\n",
       "      <td>1.3750</td>\n",
       "      <td>1.3750</td>\n",
       "      <td>1.3750</td>\n",
       "      <td>1.3750</td>\n",
       "      <td>101.3750</td>\n",
       "      <td>0.0000</td>\n",
       "      <td>0.0000</td>\n",
       "      <td>0.0000</td>\n",
       "      <td>0.0000</td>\n",
       "      <td>0.0000</td>\n",
       "    </tr>\n",
       "    <tr>\n",
       "      <th>207652</th>\n",
       "      <td>0.1875</td>\n",
       "      <td>0.1875</td>\n",
       "      <td>0.1875</td>\n",
       "      <td>0.1875</td>\n",
       "      <td>0.1875</td>\n",
       "      <td>100.1875</td>\n",
       "      <td>0.0000</td>\n",
       "      <td>0.0000</td>\n",
       "      <td>0.0000</td>\n",
       "      <td>0.0000</td>\n",
       "    </tr>\n",
       "    <tr>\n",
       "      <th>207731</th>\n",
       "      <td>0.4375</td>\n",
       "      <td>0.4375</td>\n",
       "      <td>0.4375</td>\n",
       "      <td>0.4375</td>\n",
       "      <td>0.4375</td>\n",
       "      <td>0.4375</td>\n",
       "      <td>100.4375</td>\n",
       "      <td>0.0000</td>\n",
       "      <td>0.0000</td>\n",
       "      <td>0.0000</td>\n",
       "    </tr>\n",
       "    <tr>\n",
       "      <th>207821</th>\n",
       "      <td>0.6250</td>\n",
       "      <td>0.6250</td>\n",
       "      <td>0.6250</td>\n",
       "      <td>0.6250</td>\n",
       "      <td>0.6250</td>\n",
       "      <td>0.6250</td>\n",
       "      <td>0.6250</td>\n",
       "      <td>100.6250</td>\n",
       "      <td>0.0000</td>\n",
       "      <td>0.0000</td>\n",
       "    </tr>\n",
       "    <tr>\n",
       "      <th>207561</th>\n",
       "      <td>0.2500</td>\n",
       "      <td>0.2500</td>\n",
       "      <td>0.2500</td>\n",
       "      <td>0.2500</td>\n",
       "      <td>0.2500</td>\n",
       "      <td>0.2500</td>\n",
       "      <td>0.2500</td>\n",
       "      <td>0.2500</td>\n",
       "      <td>100.2500</td>\n",
       "      <td>0.0000</td>\n",
       "    </tr>\n",
       "    <tr>\n",
       "      <th>207989</th>\n",
       "      <td>1.9375</td>\n",
       "      <td>1.9375</td>\n",
       "      <td>1.9375</td>\n",
       "      <td>1.9375</td>\n",
       "      <td>1.9375</td>\n",
       "      <td>1.9375</td>\n",
       "      <td>1.9375</td>\n",
       "      <td>1.9375</td>\n",
       "      <td>1.9375</td>\n",
       "      <td>101.9375</td>\n",
       "    </tr>\n",
       "  </tbody>\n",
       "</table>\n",
       "</div>"
      ],
      "text/plain": [
       "maturity date  2023-06-30  2023-12-31  2024-06-30  2024-12-31  2025-06-30  \\\n",
       "KYTREASNO                                                                   \n",
       "206990           100.6875      0.0000      0.0000      0.0000      0.0000   \n",
       "207047             1.1250    101.1250      0.0000      0.0000      0.0000   \n",
       "207374             0.8750      0.8750    100.8750      0.0000      0.0000   \n",
       "207166             1.1250      1.1250      1.1250    101.1250      0.0000   \n",
       "207224             1.3750      1.3750      1.3750      1.3750    101.3750   \n",
       "207652             0.1875      0.1875      0.1875      0.1875      0.1875   \n",
       "207731             0.4375      0.4375      0.4375      0.4375      0.4375   \n",
       "207821             0.6250      0.6250      0.6250      0.6250      0.6250   \n",
       "207561             0.2500      0.2500      0.2500      0.2500      0.2500   \n",
       "207989             1.9375      1.9375      1.9375      1.9375      1.9375   \n",
       "\n",
       "maturity date  2025-12-31  2026-06-30  2026-12-31  2027-06-30  2027-12-31  \n",
       "KYTREASNO                                                                  \n",
       "206990             0.0000      0.0000      0.0000      0.0000      0.0000  \n",
       "207047             0.0000      0.0000      0.0000      0.0000      0.0000  \n",
       "207374             0.0000      0.0000      0.0000      0.0000      0.0000  \n",
       "207166             0.0000      0.0000      0.0000      0.0000      0.0000  \n",
       "207224             0.0000      0.0000      0.0000      0.0000      0.0000  \n",
       "207652           100.1875      0.0000      0.0000      0.0000      0.0000  \n",
       "207731             0.4375    100.4375      0.0000      0.0000      0.0000  \n",
       "207821             0.6250      0.6250    100.6250      0.0000      0.0000  \n",
       "207561             0.2500      0.2500      0.2500    100.2500      0.0000  \n",
       "207989             1.9375      1.9375      1.9375      1.9375    101.9375  "
      ]
     },
     "execution_count": 5,
     "metadata": {},
     "output_type": "execute_result"
    }
   ],
   "source": [
    "QUOTE_DATE = '2022-12-30'\n",
    "t_date = pd.to_datetime(QUOTE_DATE)\n",
    "\n",
    "\n",
    "CF = pd.DataFrame(data=0, index=quotes.index, columns=quotes['maturity date'])\n",
    "\n",
    "for i in quotes.index:\n",
    "    coupon_dates = get_coupon_dates(t_date,pd.to_datetime(quotes.loc[i,'maturity date']))\n",
    "\n",
    "    if coupon_dates is not None:\n",
    "        CF.loc[i,coupon_dates] = quotes.loc[i,'coupon rate']/2\n",
    "\n",
    "    CF.loc[i,quotes.loc[i,'maturity date']] += 100\n",
    "\n",
    "CF = CF.resample('m',axis=1).sum()\n",
    "CF.drop(columns=CF.columns[(CF==0).all()],inplace=True)\n",
    "CF = CF.fillna(0).sort_index(axis=1)\n",
    "CF"
   ]
  },
  {
   "cell_type": "markdown",
   "metadata": {},
   "source": [
    "## <span style=\"color:red\">2.2</span>"
   ]
  },
  {
   "cell_type": "code",
   "execution_count": 6,
   "metadata": {},
   "outputs": [
    {
     "data": {
      "text/html": [
       "<div>\n",
       "<style scoped>\n",
       "    .dataframe tbody tr th:only-of-type {\n",
       "        vertical-align: middle;\n",
       "    }\n",
       "\n",
       "    .dataframe tbody tr th {\n",
       "        vertical-align: top;\n",
       "    }\n",
       "\n",
       "    .dataframe thead th {\n",
       "        text-align: right;\n",
       "    }\n",
       "</style>\n",
       "<table border=\"1\" class=\"dataframe\">\n",
       "  <thead>\n",
       "    <tr style=\"text-align: right;\">\n",
       "      <th></th>\n",
       "      <th>discount factor</th>\n",
       "    </tr>\n",
       "    <tr>\n",
       "      <th>maturity</th>\n",
       "      <th></th>\n",
       "    </tr>\n",
       "  </thead>\n",
       "  <tbody>\n",
       "    <tr>\n",
       "      <th>0.498289</th>\n",
       "      <td>0.977886</td>\n",
       "    </tr>\n",
       "    <tr>\n",
       "      <th>1.002053</th>\n",
       "      <td>0.954124</td>\n",
       "    </tr>\n",
       "    <tr>\n",
       "      <th>1.500342</th>\n",
       "      <td>0.933443</td>\n",
       "    </tr>\n",
       "    <tr>\n",
       "      <th>2.004107</th>\n",
       "      <td>0.916052</td>\n",
       "    </tr>\n",
       "    <tr>\n",
       "      <th>2.499658</th>\n",
       "      <td>0.899927</td>\n",
       "    </tr>\n",
       "    <tr>\n",
       "      <th>3.003422</th>\n",
       "      <td>0.883355</td>\n",
       "    </tr>\n",
       "    <tr>\n",
       "      <th>3.498973</th>\n",
       "      <td>0.866473</td>\n",
       "    </tr>\n",
       "    <tr>\n",
       "      <th>4.002738</th>\n",
       "      <td>0.850116</td>\n",
       "    </tr>\n",
       "    <tr>\n",
       "      <th>4.498289</th>\n",
       "      <td>0.835333</td>\n",
       "    </tr>\n",
       "    <tr>\n",
       "      <th>5.002053</th>\n",
       "      <td>0.821011</td>\n",
       "    </tr>\n",
       "  </tbody>\n",
       "</table>\n",
       "</div>"
      ],
      "text/plain": [
       "          discount factor\n",
       "maturity                 \n",
       "0.498289         0.977886\n",
       "1.002053         0.954124\n",
       "1.500342         0.933443\n",
       "2.004107         0.916052\n",
       "2.499658         0.899927\n",
       "3.003422         0.883355\n",
       "3.498973         0.866473\n",
       "4.002738         0.850116\n",
       "4.498289         0.835333\n",
       "5.002053         0.821011"
      ]
     },
     "execution_count": 6,
     "metadata": {},
     "output_type": "execute_result"
    }
   ],
   "source": [
    "COMPOUNDING = 2\n",
    "\n",
    "if USE_SIMPLIFIED_SPOT:\n",
    "    filepath = '../data/simplified_spot_discounts_2022-12-30.xlsx'\n",
    "    spot = pd.read_excel(filepath, sheet_name='data').set_index('maturity')\n",
    "\n",
    "else:\n",
    "    spot = pd.DataFrame(np.linalg.solve(CF,quotes['price'].loc[CF.index]), index=CF.index, columns=['discount factor'])\n",
    "    spot.insert(0,'maturity',quotes['maturity'])\n",
    "    spot = spot.reset_index(drop=True).set_index('maturity')    \n",
    "\n",
    "spot"
   ]
  },
  {
   "cell_type": "markdown",
   "metadata": {},
   "source": [
    "## <span style=\"color:red\">2.3</span>"
   ]
  },
  {
   "cell_type": "code",
   "execution_count": 7,
   "metadata": {},
   "outputs": [
    {
     "data": {
      "text/html": [
       "<div>\n",
       "<style scoped>\n",
       "    .dataframe tbody tr th:only-of-type {\n",
       "        vertical-align: middle;\n",
       "    }\n",
       "\n",
       "    .dataframe tbody tr th {\n",
       "        vertical-align: top;\n",
       "    }\n",
       "\n",
       "    .dataframe thead th {\n",
       "        text-align: right;\n",
       "    }\n",
       "</style>\n",
       "<table border=\"1\" class=\"dataframe\">\n",
       "  <thead>\n",
       "    <tr style=\"text-align: right;\">\n",
       "      <th></th>\n",
       "      <th>discount factor</th>\n",
       "      <th>semiannual</th>\n",
       "      <th>continuous</th>\n",
       "    </tr>\n",
       "    <tr>\n",
       "      <th>maturity</th>\n",
       "      <th></th>\n",
       "      <th></th>\n",
       "      <th></th>\n",
       "    </tr>\n",
       "  </thead>\n",
       "  <tbody>\n",
       "    <tr>\n",
       "      <th>0.498289</th>\n",
       "      <td>0.977886</td>\n",
       "      <td>0.045384</td>\n",
       "      <td>0.044877</td>\n",
       "    </tr>\n",
       "    <tr>\n",
       "      <th>1.002053</th>\n",
       "      <td>0.954124</td>\n",
       "      <td>0.047419</td>\n",
       "      <td>0.046865</td>\n",
       "    </tr>\n",
       "    <tr>\n",
       "      <th>1.500342</th>\n",
       "      <td>0.933443</td>\n",
       "      <td>0.046437</td>\n",
       "      <td>0.045907</td>\n",
       "    </tr>\n",
       "    <tr>\n",
       "      <th>2.004107</th>\n",
       "      <td>0.916052</td>\n",
       "      <td>0.044233</td>\n",
       "      <td>0.043751</td>\n",
       "    </tr>\n",
       "    <tr>\n",
       "      <th>2.499658</th>\n",
       "      <td>0.899927</td>\n",
       "      <td>0.042630</td>\n",
       "      <td>0.042182</td>\n",
       "    </tr>\n",
       "    <tr>\n",
       "      <th>3.003422</th>\n",
       "      <td>0.883355</td>\n",
       "      <td>0.041725</td>\n",
       "      <td>0.041296</td>\n",
       "    </tr>\n",
       "    <tr>\n",
       "      <th>3.498973</th>\n",
       "      <td>0.866473</td>\n",
       "      <td>0.041384</td>\n",
       "      <td>0.040962</td>\n",
       "    </tr>\n",
       "    <tr>\n",
       "      <th>4.002738</th>\n",
       "      <td>0.850116</td>\n",
       "      <td>0.040982</td>\n",
       "      <td>0.040568</td>\n",
       "    </tr>\n",
       "    <tr>\n",
       "      <th>4.498289</th>\n",
       "      <td>0.835333</td>\n",
       "      <td>0.040401</td>\n",
       "      <td>0.039998</td>\n",
       "    </tr>\n",
       "    <tr>\n",
       "      <th>5.002053</th>\n",
       "      <td>0.821011</td>\n",
       "      <td>0.039819</td>\n",
       "      <td>0.039427</td>\n",
       "    </tr>\n",
       "  </tbody>\n",
       "</table>\n",
       "</div>"
      ],
      "text/plain": [
       "          discount factor  semiannual  continuous\n",
       "maturity                                         \n",
       "0.498289         0.977886    0.045384    0.044877\n",
       "1.002053         0.954124    0.047419    0.046865\n",
       "1.500342         0.933443    0.046437    0.045907\n",
       "2.004107         0.916052    0.044233    0.043751\n",
       "2.499658         0.899927    0.042630    0.042182\n",
       "3.003422         0.883355    0.041725    0.041296\n",
       "3.498973         0.866473    0.041384    0.040962\n",
       "4.002738         0.850116    0.040982    0.040568\n",
       "4.498289         0.835333    0.040401    0.039998\n",
       "5.002053         0.821011    0.039819    0.039427"
      ]
     },
     "execution_count": 7,
     "metadata": {},
     "output_type": "execute_result"
    }
   ],
   "source": [
    "spot['semiannual'] = discount_to_intrate(spot['discount factor'], spot.index, n_compound=COMPOUNDING)\n",
    "spot['continuous'] = discount_to_intrate(spot['discount factor'], spot.index, n_compound=None)\n",
    "spot"
   ]
  },
  {
   "cell_type": "markdown",
   "metadata": {},
   "source": [
    "### <span style=\"color:red\">Extra Plots</span>"
   ]
  },
  {
   "cell_type": "code",
   "execution_count": 8,
   "metadata": {},
   "outputs": [
    {
     "data": {
      "image/png": "[encoded data removed]",
      "text/plain": [
       "<Figure size 720x720 with 2 Axes>"
      ]
     },
     "metadata": {
      "needs_background": "light"
     },
     "output_type": "display_data"
    }
   ],
   "source": [
    "fig, ax = plt.subplots(2,1,figsize=(10,10))\n",
    "spot['discount factor'].plot(ax=ax[0],title='discount factor')\n",
    "spot['semiannual'].plot(ax=ax[1],title='rate')\n",
    "plt.tight_layout()\n",
    "plt.show()"
   ]
  },
  {
   "cell_type": "code",
   "execution_count": 9,
   "metadata": {},
   "outputs": [
    {
     "data": {
      "image/png": "[encoded data removed]",
      "text/plain": [
       "<Figure size 864x432 with 1 Axes>"
      ]
     },
     "metadata": {
      "needs_background": "light"
     },
     "output_type": "display_data"
    }
   ],
   "source": [
    "ax = quotes.set_index('maturity')['ytm'].plot(linestyle='',marker='*',color='k');\n",
    "spot['semiannual'].plot(ax=ax);\n",
    "ax.legend(['ytm','spot discount rates']);"
   ]
  },
  {
   "cell_type": "markdown",
   "metadata": {},
   "source": [
    "## <span style=\"color:red\">2.4</span>"
   ]
  },
  {
   "cell_type": "markdown",
   "metadata": {},
   "source": [
    "The spot curve is decreasing over the long rates.\n",
    "\n",
    "Thus, we know the forward curve must be below the spot curve at the long end."
   ]
  },
  {
   "cell_type": "markdown",
   "metadata": {},
   "source": [
    "## <span style=\"color:red\">2.5</span>"
   ]
  },
  {
   "cell_type": "markdown",
   "metadata": {},
   "source": [
    "### Careful\n",
    "\n",
    "#### Interval\n",
    "The question asks for forward interval equal to one year, (2 \"periods\" of six months each.)\n",
    "\n",
    "The question in HW 4 asked about a forward interval of just half a year. So repeating that code would lead to a wrong answer.\n",
    "\n",
    "The code below accounts for this with the variable `FORWARD_INTERVAL`, which is expressed in number of periods, not number of years. Thus, an interval of one year is a `FORWARD_INTERVAL=2`.\n",
    "\n",
    "#### Compounding\n",
    "The question asks for a **continuously** compounded forward. That is reported below, though a semiannual rate is also reported below."
   ]
  },
  {
   "cell_type": "code",
   "execution_count": 10,
   "metadata": {},
   "outputs": [
    {
     "name": "stderr",
     "output_type": "stream",
     "text": [
      "/Users/markhendricks/Projects/FINM/finm-fixedincome-2023/venv/lib/python3.9/site-packages/pandas/core/arraylike.py:397: RuntimeWarning: invalid value encountered in log\n",
      "  result = getattr(ufunc, method)(*inputs, **kwargs)\n",
      "/Users/markhendricks/Projects/FINM/finm-fixedincome-2023/venv/lib/python3.9/site-packages/pandas/core/arraylike.py:397: RuntimeWarning: invalid value encountered in log\n",
      "  result = getattr(ufunc, method)(*inputs, **kwargs)\n"
     ]
    },
    {
     "data": {
      "text/html": [
       "<div>\n",
       "<style scoped>\n",
       "    .dataframe tbody tr th:only-of-type {\n",
       "        vertical-align: middle;\n",
       "    }\n",
       "\n",
       "    .dataframe tbody tr th {\n",
       "        vertical-align: top;\n",
       "    }\n",
       "\n",
       "    .dataframe thead th {\n",
       "        text-align: right;\n",
       "    }\n",
       "</style>\n",
       "<table border=\"1\" class=\"dataframe\">\n",
       "  <thead>\n",
       "    <tr style=\"text-align: right;\">\n",
       "      <th></th>\n",
       "      <th>discount factor</th>\n",
       "      <th>semiannual</th>\n",
       "      <th>continuous</th>\n",
       "    </tr>\n",
       "    <tr>\n",
       "      <th>maturity</th>\n",
       "      <th></th>\n",
       "      <th></th>\n",
       "      <th></th>\n",
       "    </tr>\n",
       "  </thead>\n",
       "  <tbody>\n",
       "    <tr>\n",
       "      <th>0.498289</th>\n",
       "      <td>NaN</td>\n",
       "      <td>NaN</td>\n",
       "      <td>NaN</td>\n",
       "    </tr>\n",
       "    <tr>\n",
       "      <th>1.002053</th>\n",
       "      <td>0.954124</td>\n",
       "      <td>0.046961</td>\n",
       "      <td>0.046961</td>\n",
       "    </tr>\n",
       "    <tr>\n",
       "      <th>1.500342</th>\n",
       "      <td>0.954551</td>\n",
       "      <td>0.046514</td>\n",
       "      <td>0.046514</td>\n",
       "    </tr>\n",
       "    <tr>\n",
       "      <th>2.004107</th>\n",
       "      <td>0.960097</td>\n",
       "      <td>0.040721</td>\n",
       "      <td>0.040721</td>\n",
       "    </tr>\n",
       "    <tr>\n",
       "      <th>2.499658</th>\n",
       "      <td>0.964095</td>\n",
       "      <td>0.036566</td>\n",
       "      <td>0.036566</td>\n",
       "    </tr>\n",
       "    <tr>\n",
       "      <th>3.003422</th>\n",
       "      <td>0.964307</td>\n",
       "      <td>0.036346</td>\n",
       "      <td>0.036346</td>\n",
       "    </tr>\n",
       "    <tr>\n",
       "      <th>3.498973</th>\n",
       "      <td>0.962825</td>\n",
       "      <td>0.037883</td>\n",
       "      <td>0.037883</td>\n",
       "    </tr>\n",
       "    <tr>\n",
       "      <th>4.002738</th>\n",
       "      <td>0.962372</td>\n",
       "      <td>0.038354</td>\n",
       "      <td>0.038354</td>\n",
       "    </tr>\n",
       "    <tr>\n",
       "      <th>4.498289</th>\n",
       "      <td>0.964062</td>\n",
       "      <td>0.036600</td>\n",
       "      <td>0.036600</td>\n",
       "    </tr>\n",
       "    <tr>\n",
       "      <th>5.002053</th>\n",
       "      <td>0.965763</td>\n",
       "      <td>0.034836</td>\n",
       "      <td>0.034836</td>\n",
       "    </tr>\n",
       "  </tbody>\n",
       "</table>\n",
       "</div>"
      ],
      "text/plain": [
       "          discount factor  semiannual  continuous\n",
       "maturity                                         \n",
       "0.498289              NaN         NaN         NaN\n",
       "1.002053         0.954124    0.046961    0.046961\n",
       "1.500342         0.954551    0.046514    0.046514\n",
       "2.004107         0.960097    0.040721    0.040721\n",
       "2.499658         0.964095    0.036566    0.036566\n",
       "3.003422         0.964307    0.036346    0.036346\n",
       "3.498973         0.962825    0.037883    0.037883\n",
       "4.002738         0.962372    0.038354    0.038354\n",
       "4.498289         0.964062    0.036600    0.036600\n",
       "5.002053         0.965763    0.034836    0.034836"
      ]
     },
     "execution_count": 10,
     "metadata": {},
     "output_type": "execute_result"
    }
   ],
   "source": [
    "FORWARD_INTERVAL = 2\n",
    "\n",
    "forward = pd.DataFrame(spot['discount factor']/spot['discount factor'].shift(FORWARD_INTERVAL),index=spot.index, columns=['discount factor'])\n",
    "forward['discount factor'].iloc[FORWARD_INTERVAL-1] = spot['discount factor'].iloc[FORWARD_INTERVAL-1]\n",
    "forward['semiannual'] = -np.log(forward['discount factor']) / forward.index.to_series().diff(FORWARD_INTERVAL).mean()\n",
    "forward['continuous'] = -np.log(forward['discount factor']) / forward.index.to_series().diff(FORWARD_INTERVAL).mean()\n",
    "forward"
   ]
  },
  {
   "cell_type": "markdown",
   "metadata": {},
   "source": [
    "### Two-year forward rate\n",
    "\n",
    "$F(t,T_1,T_2)$ and $f(t,T_1,T_2)$ for $T_1=3, T_2=5$."
   ]
  },
  {
   "cell_type": "code",
   "execution_count": 11,
   "metadata": {},
   "outputs": [
    {
     "data": {
      "text/html": [
       "<style type=\"text/css\">\n",
       "</style>\n",
       "<table id=\"T_d4ce1\">\n",
       "  <thead>\n",
       "    <tr>\n",
       "      <th class=\"blank level0\" >&nbsp;</th>\n",
       "      <th id=\"T_d4ce1_level0_col0\" class=\"col_heading level0 col0\" >F</th>\n",
       "      <th id=\"T_d4ce1_level0_col1\" class=\"col_heading level0 col1\" >f</th>\n",
       "    </tr>\n",
       "  </thead>\n",
       "  <tbody>\n",
       "    <tr>\n",
       "      <th id=\"T_d4ce1_level0_row0\" class=\"row_heading level0 row0\" >T_1=3, T_2=5</th>\n",
       "      <td id=\"T_d4ce1_row0_col0\" class=\"data row0 col0\" >0.929424</td>\n",
       "      <td id=\"T_d4ce1_row0_col1\" class=\"data row0 col1\" >3.6595%</td>\n",
       "    </tr>\n",
       "  </tbody>\n",
       "</table>\n"
      ],
      "text/plain": [
       "<pandas.io.formats.style.Styler at 0x1340c8bb0>"
      ]
     },
     "execution_count": 11,
     "metadata": {},
     "output_type": "execute_result"
    }
   ],
   "source": [
    "FWD_INTERVAL = 4\n",
    "F_2 = spot['discount factor'].iloc[-1] / spot['discount factor'].iloc[-1-FWD_INTERVAL]\n",
    "f_2 = -np.log(F_2) / (FWD_INTERVAL/2)\n",
    "\n",
    "fwd_2 = pd.DataFrame(np.array([[F_2,f_2]]),index=['T_1=3, T_2=5'],columns=['F','f'])\n",
    "fwd_2.style.format({'F':'{:.6f}','f':'{:.4%}'})"
   ]
  },
  {
   "cell_type": "markdown",
   "metadata": {},
   "source": [
    "### <span style=\"color:red\">Extra Plots</span>"
   ]
  },
  {
   "cell_type": "code",
   "execution_count": 12,
   "metadata": {},
   "outputs": [
    {
     "data": {
      "image/png": "[encoded data removed]",
      "text/plain": [
       "<Figure size 720x720 with 2 Axes>"
      ]
     },
     "metadata": {
      "needs_background": "light"
     },
     "output_type": "display_data"
    }
   ],
   "source": [
    "fig, ax = plt.subplots(2,1,figsize=(10,10))\n",
    "forward['discount factor'].plot(ax=ax[0],title='discount factor')\n",
    "forward['continuous'].plot(ax=ax[1],title='rate')\n",
    "plt.tight_layout()\n",
    "plt.show()"
   ]
  },
  {
   "cell_type": "code",
   "execution_count": 13,
   "metadata": {},
   "outputs": [
    {
     "data": {
      "image/png": "[encoded data removed]",
      "text/plain": [
       "<Figure size 864x432 with 1 Axes>"
      ]
     },
     "metadata": {
      "needs_background": "light"
     },
     "output_type": "display_data"
    }
   ],
   "source": [
    "fig, ax = plt.subplots()\n",
    "spot['continuous'].plot(ax=ax)\n",
    "forward['continuous'].plot(ax=ax)\n",
    "plt.legend(['spot rate','forward rate'])\n",
    "plt.ylabel('semiannual rate')\n",
    "plt.show()"
   ]
  },
  {
   "cell_type": "markdown",
   "metadata": {},
   "source": [
    "***"
   ]
  },
  {
   "cell_type": "markdown",
   "metadata": {},
   "source": [
    "# 3 An Amortized Bond"
   ]
  },
  {
   "cell_type": "markdown",
   "metadata": {},
   "source": [
    "Suppose the Treasury announces a new type of bond, the **zero-coupon amortized bond** which works as follows:\n",
    "* it pays the \\\\$100 face value evenly and annually over the life of the bond.\n",
    "* it does not pay any additional coupon.\n",
    "\n",
    "In particular, consider a five-year amortized bond:\n",
    "* it pays \\\\$10 twice per year for the next 5 years.\n",
    "* it does **not** pay any extra principal when it matures at 5 years--just the usual \\\\$10 payment."
   ]
  },
  {
   "cell_type": "markdown",
   "metadata": {},
   "source": [
    "## 3.1 (5pts)\n",
    "\n",
    "Use the spot discount factors from Problem 2 to price this new security as of December 30, 2022."
   ]
  },
  {
   "cell_type": "markdown",
   "metadata": {},
   "source": [
    "## 3.2 (5pts)\n",
    "\n",
    "Calculate the YTM of this new **amortized bond**."
   ]
  },
  {
   "cell_type": "markdown",
   "metadata": {},
   "source": [
    "## 3.3 (5pts)\n",
    "\n",
    "Conceptually speaking, should the duration of this amortized bond be higher or lower than a typical zero-coupon, five-year treasury bond?\n",
    "\n",
    "And its convexity?"
   ]
  },
  {
   "cell_type": "markdown",
   "metadata": {},
   "source": [
    "## 3.4 (7pts)\n",
    "\n",
    "Calculate the (Macauley) duration of this **amortized** bond."
   ]
  },
  {
   "cell_type": "markdown",
   "metadata": {},
   "source": [
    "## 3.5 (6pts)\n",
    "\n",
    "Calculate the convexity of this amortized bond."
   ]
  },
  {
   "cell_type": "markdown",
   "metadata": {},
   "source": [
    "## 3.6 (7pts)\n",
    "\n",
    "Suppose you want to go long this amortized bond but hedge your duration by shorting the 5-year Treasury reported in `selected_treasury_quotes_quotes_2022-12-30.xlsx`.\n",
    "\n",
    "For each long contract of the 5-year amortized, how many contracts should you short of the vanilla 5-year Treasury?"
   ]
  },
  {
   "cell_type": "markdown",
   "metadata": {},
   "source": [
    "***"
   ]
  },
  {
   "cell_type": "markdown",
   "metadata": {},
   "source": [
    "# <span style=\"color:red\">Solution 3</span>\n",
    "\n",
    "#### <span style=\"color:green\">RUBRIC</span>\n",
    "\n",
    "3.1 (5 points)\n",
    "  - 0 points: Blank or essentially no meaningful progress\n",
    "  - 3 points: On the right track, but answer is significantly off\n",
    "  - 5 points: Correct answer within a rounding error\n",
    " \n",
    "3.2 (5 points)\n",
    "  - 0 points: Blank or essentially no meaningful progress\n",
    "  - 3 points: On the right track, but answer is significantly off\n",
    "  - 5 points: Correct answer within a rounding error\n",
    "\n",
    "3.3 (5 points)\n",
    "  - 0 points: Blank or substantially irrelevant response\n",
    "  - 3 points: Correct answer and reasoning for one of two concepts\n",
    "  - 5 points: Correct answer and reasoning for both duration and convexity\n",
    " \n",
    "3.4 (7 points)\n",
    "  - 0 points: Blank or essentially no meaningful progress\n",
    "  - 4 points: On the right track, but answer is significantly off \n",
    "  - 7 points: Correct answer within a rounding error\n",
    " \n",
    "3.5 (6 points)\n",
    "  - 0 points: Blank or essentially no meaningful progress\n",
    "  - 3 points: On the right track, but answer is significantly off \n",
    "  - 6 points: Correct answer within a rounding error\n",
    " \n",
    "3.6 (7 points)\n",
    "  - 0 points: Blank or essentially no meaningful progress\n",
    "  - 4 points: On the right track, but answer is significantly off \n",
    "  - 7 points: Correct answer within a rounding error"
   ]
  },
  {
   "cell_type": "markdown",
   "metadata": {},
   "source": [
    "## <span style=\"color:red\">3.1</span>"
   ]
  },
  {
   "cell_type": "code",
   "execution_count": 14,
   "metadata": {},
   "outputs": [
    {
     "data": {
      "text/plain": [
       "'Price of amortized bond: $89.38'"
      ]
     },
     "metadata": {},
     "output_type": "display_data"
    }
   ],
   "source": [
    "p_amort = (spot['discount factor'] * 10).sum()\n",
    "display(f'Price of amortized bond: ${p_amort:.2f}')"
   ]
  },
  {
   "cell_type": "markdown",
   "metadata": {},
   "source": [
    "## <span style=\"color:red\">3.2</span>"
   ]
  },
  {
   "cell_type": "markdown",
   "metadata": {},
   "source": [
    "#### Caution\n",
    "The problem supposed that semiannual compounding was the obvious choice for reporting, (as is typical with semiannual-coupon-paying Treasury securities.) Still, the problem did not specify the compounding to use for the YTM, so any reasonable compounding will be accepted. The solution below displays annual, semiannual, daily, and continuous.\n",
    "\n",
    "#### Coding\n",
    "This could be solved with almost identical code to the YTM solver used in Solution 1."
   ]
  },
  {
   "cell_type": "code",
   "execution_count": 15,
   "metadata": {},
   "outputs": [],
   "source": [
    "from scipy.optimize import fsolve\n",
    "\n",
    "def pv(rate, cashflows, maturities,freq=1):\n",
    "    price = sum([cfi/(1+rate/freq)**(maturities[i]*freq) for i, cfi in enumerate(cashflows)])\n",
    "    return price"
   ]
  },
  {
   "cell_type": "code",
   "execution_count": 16,
   "metadata": {},
   "outputs": [
    {
     "data": {
      "text/html": [
       "<style type=\"text/css\">\n",
       "</style>\n",
       "<table id=\"T_2e9f4\">\n",
       "  <thead>\n",
       "    <tr>\n",
       "      <th class=\"blank level0\" >&nbsp;</th>\n",
       "      <th id=\"T_2e9f4_level0_col0\" class=\"col_heading level0 col0\" >annual</th>\n",
       "      <th id=\"T_2e9f4_level0_col1\" class=\"col_heading level0 col1\" >semiannual</th>\n",
       "      <th id=\"T_2e9f4_level0_col2\" class=\"col_heading level0 col2\" >daily</th>\n",
       "      <th id=\"T_2e9f4_level0_col3\" class=\"col_heading level0 col3\" >continuous</th>\n",
       "    </tr>\n",
       "  </thead>\n",
       "  <tbody>\n",
       "    <tr>\n",
       "      <th id=\"T_2e9f4_level0_row0\" class=\"row_heading level0 row0\" >amortized bond</th>\n",
       "      <td id=\"T_2e9f4_row0_col0\" class=\"data row0 col0\" >4.2340%</td>\n",
       "      <td id=\"T_2e9f4_row0_col1\" class=\"data row0 col1\" >4.1901%</td>\n",
       "      <td id=\"T_2e9f4_row0_col2\" class=\"data row0 col2\" >4.1470%</td>\n",
       "      <td id=\"T_2e9f4_row0_col3\" class=\"data row0 col3\" >4.1468%</td>\n",
       "    </tr>\n",
       "  </tbody>\n",
       "</table>\n"
      ],
      "text/plain": [
       "<pandas.io.formats.style.Styler at 0x1343a1be0>"
      ]
     },
     "execution_count": 16,
     "metadata": {},
     "output_type": "execute_result"
    }
   ],
   "source": [
    "ytm = pd.DataFrame(index=['amortized bond'],columns=['annual','semiannual','daily','continuous'],dtype=float)\n",
    "\n",
    "pv_wrapper = lambda y: p_amort - pv(y,10 * np.ones((10,1)),spot.index,freq=2)\n",
    "ytm['semiannual'] = fsolve(pv_wrapper,.01)\n",
    "\n",
    "ytm['annual'] = compound_rate(ytm['semiannual'],2,1)\n",
    "ytm['daily'] = compound_rate(ytm['semiannual'],2,365)\n",
    "ytm['continuous'] = compound_rate(ytm['semiannual'],2,None)\n",
    "ytm.style.format('{:.4%}')"
   ]
  },
  {
   "cell_type": "markdown",
   "metadata": {},
   "source": [
    "## <span style=\"color:red\">3.3</span>"
   ]
  },
  {
   "cell_type": "markdown",
   "metadata": {},
   "source": [
    "#### Duration\n",
    "**The duration of this amortized bond is much smaller (nearer zero)** than for a zero-coupon 5-year Treasury note. \n",
    "\n",
    "#### Convexity\n",
    "**The convexity of this amortized bond is much smaller (nearer zero)** than for a zero-coupon 5-year Treasury note.\n",
    "\n",
    "#### Explanation\n",
    "This question relies on understanding the nonlinear relationship between price and interest-rates, as shown in the first figure of W.1. The longer maturity (or smaller coupon rate) will imply a steeper price-rate slope (higher maturity) and more nonlinearity (higher convexity.) \n",
    "\n",
    "Thus, the amortized bond (which effectively has short-term cash flows) has much less senstitivity, and much less nonlinearity to interest rates.\n",
    "\n",
    "The cashflows for the amortized bond come sooner, giving less time for the discount rate to impact the price, and less nonlinear compounding to cause convexity."
   ]
  },
  {
   "cell_type": "markdown",
   "metadata": {},
   "source": [
    "### <span style=\"color:red\">Extra</span>\n",
    "\n",
    "This relationship can be seen clearly in the first figure from our discussion on interest-rate risk in W.2.\n",
    "\n",
    "A modified version is posted below, specifically illustrating this problem."
   ]
  },
  {
   "cell_type": "code",
   "execution_count": 17,
   "metadata": {},
   "outputs": [],
   "source": [
    "def price_vanilla_bond(cpnrate,time_to_maturity,ytm,freq=2, face=100):\n",
    "\n",
    "    periods = time_to_maturity * freq\n",
    "    \n",
    "    price = (cpnrate*face/ytm)*(1-(1+ytm/freq)**(-periods)) + face/((1+y/freq)**periods)\n",
    "    \n",
    "    return price"
   ]
  },
  {
   "cell_type": "code",
   "execution_count": 18,
   "metadata": {},
   "outputs": [
    {
     "data": {
      "image/png": "[encoded data removed]",
      "text/plain": [
       "<Figure size 720x576 with 1 Axes>"
      ]
     },
     "metadata": {
      "needs_background": "light"
     },
     "output_type": "display_data"
    }
   ],
   "source": [
    "T = 5\n",
    "\n",
    "ylds_grid = np.arange(0.001,.10,.001)\n",
    "price_grid = pd.DataFrame(dtype=float, index=ylds_grid, columns=['amortized','zero-coupon'])\n",
    "\n",
    "for i,y in enumerate(ylds_grid):\n",
    "    price_grid.loc[y,'zero-coupon'] = price_vanilla_bond(0,T,y)\n",
    "    price_grid.loc[y,'amortized'] = price_vanilla_bond(.2,T,y) - price_vanilla_bond(0,T,y,face=100)\n",
    "    \n",
    "price_grid.plot(figsize=(10,8));\n",
    "\n",
    "legend_labels = ['zero-coupon bond','amortized bond']\n",
    "\n",
    "plt.xlabel('yield-to-maturity')\n",
    "plt.ylabel('price')\n",
    "plt.legend(legend_labels)\n",
    "plt.title('Relationship between YTM and Price')\n",
    "plt.show()"
   ]
  },
  {
   "cell_type": "markdown",
   "metadata": {},
   "source": [
    "## <span style=\"color:red\">3.4 - 3.5</span>"
   ]
  },
  {
   "cell_type": "markdown",
   "metadata": {},
   "source": [
    "#### Careful\n",
    "\n",
    "The problem asked for (Macauley) duration--NOT modified duration.\n",
    "\n",
    "Both are reported below, in case evaluating for partial credit.\n",
    "\n",
    "To further illustrate the issue in 3.3, the duration and convexity of the zero-coupon bond are reported below, but that was not required."
   ]
  },
  {
   "cell_type": "code",
   "execution_count": 19,
   "metadata": {},
   "outputs": [
    {
     "data": {
      "text/html": [
       "<style type=\"text/css\">\n",
       "</style>\n",
       "<table id=\"T_c4076\">\n",
       "  <thead>\n",
       "    <tr>\n",
       "      <th class=\"blank level0\" >&nbsp;</th>\n",
       "      <th id=\"T_c4076_level0_col0\" class=\"col_heading level0 col0\" >duration</th>\n",
       "      <th id=\"T_c4076_level0_col1\" class=\"col_heading level0 col1\" >convexity</th>\n",
       "    </tr>\n",
       "  </thead>\n",
       "  <tbody>\n",
       "    <tr>\n",
       "      <th id=\"T_c4076_level0_row0\" class=\"row_heading level0 row0\" >amortized bond</th>\n",
       "      <td id=\"T_c4076_row0_col0\" class=\"data row0 col0\" >2.67</td>\n",
       "      <td id=\"T_c4076_row0_col1\" class=\"data row0 col1\" >9.20</td>\n",
       "    </tr>\n",
       "  </tbody>\n",
       "</table>\n"
      ],
      "text/plain": [
       "<pandas.io.formats.style.Styler at 0x1343478e0>"
      ]
     },
     "execution_count": 19,
     "metadata": {},
     "output_type": "execute_result"
    }
   ],
   "source": [
    "wts = (10*spot['discount factor'] / p_amort)\n",
    "\n",
    "sensitivity = pd.DataFrame((wts * spot.index).sum(),index=['amortized bond'],columns=['duration'])\n",
    "sensitivity['convexity'] = (wts * spot.index**2).sum()\n",
    "\n",
    "sensitivity.style.format('{:.2f}')"
   ]
  },
  {
   "cell_type": "markdown",
   "metadata": {},
   "source": [
    "### Pedagogical Point\n",
    "\n",
    "#### Comparison to zero-coupon, as conceptually considered in 3.3\n",
    "\n",
    "Estimates support what we reasoned above."
   ]
  },
  {
   "cell_type": "code",
   "execution_count": 20,
   "metadata": {},
   "outputs": [
    {
     "data": {
      "text/html": [
       "<style type=\"text/css\">\n",
       "</style>\n",
       "<table id=\"T_0800b\">\n",
       "  <thead>\n",
       "    <tr>\n",
       "      <th class=\"blank level0\" >&nbsp;</th>\n",
       "      <th id=\"T_0800b_level0_col0\" class=\"col_heading level0 col0\" >duration</th>\n",
       "      <th id=\"T_0800b_level0_col1\" class=\"col_heading level0 col1\" >convexity</th>\n",
       "    </tr>\n",
       "  </thead>\n",
       "  <tbody>\n",
       "    <tr>\n",
       "      <th id=\"T_0800b_level0_row0\" class=\"row_heading level0 row0\" >amortized bond</th>\n",
       "      <td id=\"T_0800b_row0_col0\" class=\"data row0 col0\" >2.67</td>\n",
       "      <td id=\"T_0800b_row0_col1\" class=\"data row0 col1\" >9.20</td>\n",
       "    </tr>\n",
       "    <tr>\n",
       "      <th id=\"T_0800b_level0_row1\" class=\"row_heading level0 row1\" >zero-coupon bond</th>\n",
       "      <td id=\"T_0800b_row1_col0\" class=\"data row1 col0\" >5.00</td>\n",
       "      <td id=\"T_0800b_row1_col1\" class=\"data row1 col1\" >25.00</td>\n",
       "    </tr>\n",
       "  </tbody>\n",
       "</table>\n"
      ],
      "text/plain": [
       "<pandas.io.formats.style.Styler at 0x13442a0d0>"
      ]
     },
     "metadata": {},
     "output_type": "display_data"
    }
   ],
   "source": [
    "sensitivity.loc['zero-coupon bond',:] = [T,T**2]\n",
    "\n",
    "display(sensitivity.style.format('{:.2f}'))\n",
    "sensitivity.drop(index=['zero-coupon bond'],inplace=True);"
   ]
  },
  {
   "cell_type": "markdown",
   "metadata": {},
   "source": [
    "## <span style=\"color:red\">3.6</span>"
   ]
  },
  {
   "cell_type": "markdown",
   "metadata": {},
   "source": [
    "Calculate the duration of the quoted 5-year Treasury in one of two ways:\n",
    "* using the CF grid from 2.1, similar to calculating duration in W.2.\n",
    "* using the closed-form solution for modified duration of a vanilla bond, then converting to macauley duration, (similar to the method in HW 4.)\n",
    "\n",
    "Both are shown below.\n",
    "\n",
    "#### Reminder\n",
    "Usually, in using the cashflow approach to calculate the duration, we need to be careful to use the modeled price, not the quoted price, in getting the present-value weights.\n",
    "\n",
    "However, here both are the same, as we have extracted spot discount factors that are an exact fit for these quoted prices."
   ]
  },
  {
   "cell_type": "code",
   "execution_count": 21,
   "metadata": {},
   "outputs": [],
   "source": [
    "def duration_closed_formula(tau, ytm, cpnrate=None, freq=2):\n",
    "\n",
    "    if cpnrate is None:\n",
    "        cpnrate = ytm\n",
    "        \n",
    "    y = ytm/freq\n",
    "    c = cpnrate/freq\n",
    "    T = tau * freq\n",
    "        \n",
    "    if cpnrate==ytm:\n",
    "        duration = (1+y)/y  * (1 - 1/(1+y)**T)\n",
    "        \n",
    "    else:\n",
    "        duration = (1+y)/y - (1+y+T*(c-y)) / (c*((1+y)**T-1)+y)\n",
    "\n",
    "    duration /= freq\n",
    "    \n",
    "    return duration"
   ]
  },
  {
   "cell_type": "code",
   "execution_count": 22,
   "metadata": {},
   "outputs": [
    {
     "data": {
      "text/html": [
       "<style type=\"text/css\">\n",
       "</style>\n",
       "<table id=\"T_05b47\">\n",
       "  <thead>\n",
       "    <tr>\n",
       "      <th class=\"blank level0\" >&nbsp;</th>\n",
       "      <th id=\"T_05b47_level0_col0\" class=\"col_heading level0 col0\" >duration</th>\n",
       "      <th id=\"T_05b47_level0_col1\" class=\"col_heading level0 col1\" >convexity</th>\n",
       "      <th id=\"T_05b47_level0_col2\" class=\"col_heading level0 col2\" >price</th>\n",
       "      <th id=\"T_05b47_level0_col3\" class=\"col_heading level0 col3\" >dollar duration</th>\n",
       "    </tr>\n",
       "  </thead>\n",
       "  <tbody>\n",
       "    <tr>\n",
       "      <th id=\"T_05b47_level0_row0\" class=\"row_heading level0 row0\" >amortized bond</th>\n",
       "      <td id=\"T_05b47_row0_col0\" class=\"data row0 col0\" >2.67</td>\n",
       "      <td id=\"T_05b47_row0_col1\" class=\"data row0 col1\" >9.20</td>\n",
       "      <td id=\"T_05b47_row0_col2\" class=\"data row0 col2\" >89.38</td>\n",
       "      <td id=\"T_05b47_row0_col3\" class=\"data row0 col3\" >238.81</td>\n",
       "    </tr>\n",
       "    <tr>\n",
       "      <th id=\"T_05b47_level0_row1\" class=\"row_heading level0 row1\" >quoted 5-year Treasury</th>\n",
       "      <td id=\"T_05b47_row1_col0\" class=\"data row1 col0\" >4.60</td>\n",
       "      <td id=\"T_05b47_row1_col1\" class=\"data row1 col1\" >22.27</td>\n",
       "      <td id=\"T_05b47_row1_col2\" class=\"data row1 col2\" >99.42</td>\n",
       "      <td id=\"T_05b47_row1_col3\" class=\"data row1 col3\" >456.94</td>\n",
       "    </tr>\n",
       "  </tbody>\n",
       "</table>\n"
      ],
      "text/plain": [
       "<pandas.io.formats.style.Styler at 0x1340e6130>"
      ]
     },
     "execution_count": 22,
     "metadata": {},
     "output_type": "execute_result"
    }
   ],
   "source": [
    "DURATION_VIA_STYLIZED_FORMULA = False\n",
    "\n",
    "modeled_px = (CF.iloc[-1,:].values * spot['discount factor']).sum()\n",
    "wts = CF.iloc[-1,:].values * spot['discount factor'] / modeled_px\n",
    "sensitivity.loc['quoted 5-year Treasury','duration'] = (wts * spot.index).sum()\n",
    "sensitivity.loc['quoted 5-year Treasury','convexity'] = (wts * spot.index**2).sum()\n",
    "\n",
    "if DURATION_VIA_STYLIZED_FORMULA:\n",
    "    sensitivity.loc['quoted 5-year Treasury','duration'] = duration_closed_formula(5,quotes['ytm'].iloc[-1],quotes['coupon rate'].iloc[-1]/100)\n",
    "\n",
    "\n",
    "sensitivity['price'] = [p_amort, quotes['price'].iloc[-1]]\n",
    "sensitivity['dollar duration'] = sensitivity['duration'] * sensitivity['price']\n",
    "\n",
    "sensitivity.style.format('{:.2f}')"
   ]
  },
  {
   "cell_type": "markdown",
   "metadata": {},
   "source": [
    "Recalling our duration hedging formula,\n",
    "$$n_j = -n_i\\frac{D_{\\$,i}}{D_{\\$,j}}$$\n",
    "then we get the answer in the table below.\n",
    "\n",
    "#### Careful: Scale by dollars (i.e. use dollar duration)\n",
    "\n",
    "The question asks how many **short** positions of the 5-year treasury for each position in the amortized bond. It is not asking about the dollars hedged but rather the positions hedged.\n",
    "\n",
    "#### Careful: Asks for number of short positions\n",
    "\n",
    "So no problem if the negative sign is not listed, as this is presumed in the question. Also fine if it is listed for emphasis."
   ]
  },
  {
   "cell_type": "code",
   "execution_count": 23,
   "metadata": {
    "scrolled": true
   },
   "outputs": [
    {
     "data": {
      "text/html": [
       "<style type=\"text/css\">\n",
       "</style>\n",
       "<table id=\"T_cd065\">\n",
       "  <thead>\n",
       "    <tr>\n",
       "      <th class=\"blank level0\" >&nbsp;</th>\n",
       "      <th id=\"T_cd065_level0_col0\" class=\"col_heading level0 col0\" >duration</th>\n",
       "      <th id=\"T_cd065_level0_col1\" class=\"col_heading level0 col1\" >convexity</th>\n",
       "      <th id=\"T_cd065_level0_col2\" class=\"col_heading level0 col2\" >price</th>\n",
       "      <th id=\"T_cd065_level0_col3\" class=\"col_heading level0 col3\" >dollar duration</th>\n",
       "      <th id=\"T_cd065_level0_col4\" class=\"col_heading level0 col4\" >short vanilla per amortized bond</th>\n",
       "    </tr>\n",
       "  </thead>\n",
       "  <tbody>\n",
       "    <tr>\n",
       "      <th id=\"T_cd065_level0_row0\" class=\"row_heading level0 row0\" >amortized bond</th>\n",
       "      <td id=\"T_cd065_row0_col0\" class=\"data row0 col0\" >2.67</td>\n",
       "      <td id=\"T_cd065_row0_col1\" class=\"data row0 col1\" >9.20</td>\n",
       "      <td id=\"T_cd065_row0_col2\" class=\"data row0 col2\" >89.38</td>\n",
       "      <td id=\"T_cd065_row0_col3\" class=\"data row0 col3\" >238.81</td>\n",
       "      <td id=\"T_cd065_row0_col4\" class=\"data row0 col4\" >nan</td>\n",
       "    </tr>\n",
       "    <tr>\n",
       "      <th id=\"T_cd065_level0_row1\" class=\"row_heading level0 row1\" >quoted 5-year Treasury</th>\n",
       "      <td id=\"T_cd065_row1_col0\" class=\"data row1 col0\" >4.60</td>\n",
       "      <td id=\"T_cd065_row1_col1\" class=\"data row1 col1\" >22.27</td>\n",
       "      <td id=\"T_cd065_row1_col2\" class=\"data row1 col2\" >99.42</td>\n",
       "      <td id=\"T_cd065_row1_col3\" class=\"data row1 col3\" >456.94</td>\n",
       "      <td id=\"T_cd065_row1_col4\" class=\"data row1 col4\" >0.52</td>\n",
       "    </tr>\n",
       "  </tbody>\n",
       "</table>\n"
      ],
      "text/plain": [
       "<pandas.io.formats.style.Styler at 0x1343c4460>"
      ]
     },
     "execution_count": 23,
     "metadata": {},
     "output_type": "execute_result"
    }
   ],
   "source": [
    "sensitivity.loc['quoted 5-year Treasury','short vanilla per amortized bond'] = sensitivity.loc['amortized bond','dollar duration'] / sensitivity.loc['quoted 5-year Treasury','dollar duration']\n",
    "sensitivity.style.format('{:.2f}')"
   ]
  },
  {
   "cell_type": "markdown",
   "metadata": {},
   "source": [
    "***"
   ]
  },
  {
   "cell_type": "markdown",
   "metadata": {},
   "source": [
    "# 4 Expectations Hypothesis"
   ]
  },
  {
   "cell_type": "markdown",
   "metadata": {},
   "source": [
    "Continue using the rates from Dec 30, 2022 introduced in Problem 2 above."
   ]
  },
  {
   "cell_type": "markdown",
   "metadata": {},
   "source": [
    "## 4.1 (5pts)\n",
    "\n",
    "Use the Expectations Hypothesis to get a forecast the one-year spot rate that will be available in December of the following four years, (2023, 2024, 2025, 2026.)\n",
    "\n",
    "## 4.2 (5pts)\n",
    "\n",
    "Based on evidence we reviewed of the Expectations Hypothesis, do you expect the forecasts above are too high or low? Explain.\n",
    "\n",
    "## 4.3 (5pts)\n",
    "\n",
    "Suppose that the following month, January 2023, we observe that the forward rates have increased. Is it likely that the future spot rates (in Jan 2023, 2024, 2025, 2026) will increase as well? Explain.\n",
    "\n",
    "## 4.4 (5pts)\n",
    "\n",
    "As of December 2022, describe (conceptually) the \"carry trade\" you would recommend an investor implement.."
   ]
  },
  {
   "cell_type": "markdown",
   "metadata": {},
   "source": [
    "***"
   ]
  },
  {
   "cell_type": "markdown",
   "metadata": {},
   "source": [
    "# <span style=\"color:red\">Solution 4</span>\n",
    "\n",
    "#### <span style=\"color:green\">RUBRIC</span>\n",
    "\n",
    "4.1 (5 points)\n",
    "  - 0 points: Blank or essentially no meaningful progress\n",
    "  - 3 points: Answer indicated that forecasts should be based on forward rates, but one or more forecast was incorrect.\n",
    "  - 5 points: All 5 forecasts must be correct within a rounding error.\n",
    "\n",
    "4.2 (5 points)\n",
    "  - 0 points: Blank or incorrect answer\n",
    "  - 3 points: Correct answer but no explanation.\n",
    "  - 5 points: Correct answer with explanation.\n",
    "\n",
    "4.3 (5 points) Question can be understood despite typo\n",
    "  - 0 points: Blank or incorrect answer\n",
    "  - 3 points: Correct answer but no explanation.\n",
    "  - 5 points: Correct answer with explanation.\n",
    "\n",
    "4.4 (5 points)\n",
    "  - 0 points: Blank or incorrect and irrelevant answer\n",
    "  - 3 points: Correct answer but no explanation.\n",
    "  - 5 points: Correct answer with explanation."
   ]
  },
  {
   "cell_type": "markdown",
   "metadata": {},
   "source": [
    "## <span style=\"color:red\">4.1</span>"
   ]
  },
  {
   "cell_type": "markdown",
   "metadata": {},
   "source": [
    "The Expectations Hypothesis says that today's forward rate is the best forecast of the future spot rate:\n",
    "\n",
    "$$\\mathbb{E}_t\\left[r(T_1,T_2)\\right] = f(t,T_1,T_2)$$\n",
    "\n",
    "**Thus, we simply use the forward rates calculated in problem 2.5.**"
   ]
  },
  {
   "cell_type": "code",
   "execution_count": 24,
   "metadata": {},
   "outputs": [
    {
     "data": {
      "text/html": [
       "<div>\n",
       "<style scoped>\n",
       "    .dataframe tbody tr th:only-of-type {\n",
       "        vertical-align: middle;\n",
       "    }\n",
       "\n",
       "    .dataframe tbody tr th {\n",
       "        vertical-align: top;\n",
       "    }\n",
       "\n",
       "    .dataframe thead th {\n",
       "        text-align: right;\n",
       "    }\n",
       "</style>\n",
       "<table border=\"1\" class=\"dataframe\">\n",
       "  <thead>\n",
       "    <tr style=\"text-align: right;\">\n",
       "      <th></th>\n",
       "      <th>semiannual</th>\n",
       "      <th>continuous</th>\n",
       "    </tr>\n",
       "    <tr>\n",
       "      <th>maturity</th>\n",
       "      <th></th>\n",
       "      <th></th>\n",
       "    </tr>\n",
       "  </thead>\n",
       "  <tbody>\n",
       "    <tr>\n",
       "      <th>1.002053</th>\n",
       "      <td>0.046961</td>\n",
       "      <td>0.046961</td>\n",
       "    </tr>\n",
       "    <tr>\n",
       "      <th>2.004107</th>\n",
       "      <td>0.040721</td>\n",
       "      <td>0.040721</td>\n",
       "    </tr>\n",
       "    <tr>\n",
       "      <th>3.003422</th>\n",
       "      <td>0.036346</td>\n",
       "      <td>0.036346</td>\n",
       "    </tr>\n",
       "    <tr>\n",
       "      <th>4.002738</th>\n",
       "      <td>0.038354</td>\n",
       "      <td>0.038354</td>\n",
       "    </tr>\n",
       "    <tr>\n",
       "      <th>5.002053</th>\n",
       "      <td>0.034836</td>\n",
       "      <td>0.034836</td>\n",
       "    </tr>\n",
       "  </tbody>\n",
       "</table>\n",
       "</div>"
      ],
      "text/plain": [
       "          semiannual  continuous\n",
       "maturity                        \n",
       "1.002053    0.046961    0.046961\n",
       "2.004107    0.040721    0.040721\n",
       "3.003422    0.036346    0.036346\n",
       "4.002738    0.038354    0.038354\n",
       "5.002053    0.034836    0.034836"
      ]
     },
     "execution_count": 24,
     "metadata": {},
     "output_type": "execute_result"
    }
   ],
   "source": [
    "forward[['semiannual','continuous']].iloc[1::2]"
   ]
  },
  {
   "cell_type": "markdown",
   "metadata": {},
   "source": [
    "The problem didn't specify compounding, so any reasonable compounding choice is fine."
   ]
  },
  {
   "cell_type": "markdown",
   "metadata": {},
   "source": [
    "## <span style=\"color:red\">4.2</span>"
   ]
  },
  {
   "cell_type": "markdown",
   "metadata": {},
   "source": [
    "The forecasts are likely too high.\n",
    "\n",
    "In W.5., we saw evidence that forward rates are useful as forecasts, but that they are (on average) higher than the future one-year spot rates. This was one of the pieces of evidence that the Expectations Hypothesis is false."
   ]
  },
  {
   "cell_type": "markdown",
   "metadata": {},
   "source": [
    "## <span style=\"color:red\">4.3</span>"
   ]
  },
  {
   "cell_type": "markdown",
   "metadata": {},
   "source": [
    "Yes, **on average** they increase, but it is not **likely**.\n",
    "\n",
    "In W.5., in the Dynamic Tests of the EH, Fact 2 ran a regression showing that innovations to the forward rate are positively correlated with changes to the future spot (positive betas) but that it is an extremely weak relationship (r-squared near zero.)"
   ]
  },
  {
   "cell_type": "markdown",
   "metadata": {},
   "source": [
    "## <span style=\"color:red\">4.4</span>"
   ]
  },
  {
   "cell_type": "markdown",
   "metadata": {},
   "source": [
    "We saw that an upward sloping spot curve predicts profits to going long the long-term bond and shorting the short-term bond, due to the failure of the Expectations Hypothesis. (See HW 5).\n",
    "\n",
    "**Thus, given the downward sloping spot curve in Dec 2022, the appropriate carry trade would be to set up the following position:**\n",
    "* short long-term (i.e. 5-year) bonds\n",
    "* long short-term (i.e. 1-year) bonds\n",
    "\n",
    "See the Dynamic Tests of the EH in W.5. for more. This trade carries interest-rate risk, but those tests indicate it has positive expected PnL."
   ]
  },
  {
   "cell_type": "markdown",
   "metadata": {},
   "source": [
    "***"
   ]
  },
  {
   "cell_type": "markdown",
   "metadata": {},
   "source": [
    "# 5 Long-Short Convergence Trade"
   ]
  },
  {
   "cell_type": "markdown",
   "metadata": {},
   "source": [
    "Consider a long-short convergence trade on `2019-08-29`.\n",
    "\n",
    "* Both securities mature on **2020-08-15**.\n",
    "* One is a 30-year **bond** and the other is a 10-year **note**.\n",
    "\n",
    "Find data needed for the analysis in `treasury_ts_2020-08-15.xlsx`.\n",
    "\n",
    "Note:\n",
    "* Use the YTM as given in the field `TDYLD`. Multiply by 365.25 to convert it to an annual yield.\n",
    "* Use the (Macauley) duration given in `TDDURATN`, divided by 365.25 to annualize it."
   ]
  },
  {
   "cell_type": "markdown",
   "metadata": {},
   "source": [
    "## 5.1 (10pts)\n",
    "\n",
    "Display a table showing the two securities as of `2019-08-29`:\n",
    "* issue date\n",
    "* maturity date\n",
    "* coupon rate\n",
    "* clean price (taken as average of bid and ask)\n",
    "* dirty price\n",
    "* duration (Macauley)\n",
    "* modified duration\n",
    "* ytm"
   ]
  },
  {
   "cell_type": "markdown",
   "metadata": {},
   "source": [
    "## 5.2 (5pts)\n",
    "\n",
    "On this date, `2019-08-29`, the YTM spread is at a 5-year low.\n",
    "\n",
    "Calculate the YTM spread (bond YTM minus note YTM).\n",
    "* Report this number.\n",
    "\n",
    "Explain conceptually what trade might make sense if we believe this spread will converge back to zero.\n",
    "* Which security will you go long and which will you go short?"
   ]
  },
  {
   "cell_type": "markdown",
   "metadata": {},
   "source": [
    "## 5.3 (5pts)\n",
    "Describe conceptually the risk in this trade.\n",
    "* What risks are present in this trade? \n",
    "* Is it an arbitrage? \n",
    "\n",
    "Answer both over the next month and over the next year, until maturity."
   ]
  },
  {
   "cell_type": "markdown",
   "metadata": {},
   "source": [
    "## 5.4 (10pts)\n",
    "\n",
    "Suppose you use \\\\$1 million of equity capital on the long position, leveraged 50x to buy \\\\$50 million of the long position. Assume any short position will also be levered 50x. \n",
    "\n",
    "*You do not need to worry about the details of this financing. One could view this as a 2\\% capital requirement on both the long and short positions, possibly due to haircuts and brokerage requirements. There is no difference between financing rates on the long and short positions, (so no need to consider repo rate vs brokerage account interest rate.)*\n",
    "\n",
    "**Calculate...**\n",
    "* the number of long contracts \n",
    "* the number of short contracts such that the trade is initialized with zero duration\n",
    "* the dollar value of assets and of equity in each side of the trade.\n",
    "\n",
    "In calculating the number of contracts, assume face value of \\\\$100 each."
   ]
  },
  {
   "cell_type": "markdown",
   "metadata": {},
   "source": [
    "## 5.5 (10pts)\n",
    "\n",
    "Using the concept of modified duration, how much profit or loss (PnL) would you expect to make for every basis point of convergence in the spread? \n",
    "\n",
    "Specifically, assume the convergence is symmetric: the long position's ytm goes down 0.5bp and the short position's ytm goes up 0.5bp. \n",
    "\n",
    "**Using this approximation, specify the PnL of the long position, the short position, and the net total for a 1bp convergence.**"
   ]
  },
  {
   "cell_type": "markdown",
   "metadata": {},
   "source": [
    "## 5.6 (5pts)\n",
    "\n",
    "Calculate the profit (or loss) on the position as of `2019-10-01`.\n",
    "\n",
    "Show this separately for the long position, the short position, and the net.\n",
    "\n",
    "Note that no coupon is paid between the trade being set up and this date; thus, the PnL is simply a matter of the position's prices."
   ]
  },
  {
   "cell_type": "markdown",
   "metadata": {},
   "source": [
    "## 5.7 (5pts)\n",
    "\n",
    "Does the actual PnL above make sense in light of the duration-based PnL-per-bp calculated above? Give two reasons these numbers may not be aligned."
   ]
  },
  {
   "cell_type": "markdown",
   "metadata": {},
   "source": [
    "***"
   ]
  },
  {
   "cell_type": "markdown",
   "metadata": {},
   "source": [
    "# <span style=\"color:red\">Solution 5</span>\n",
    "\n",
    "#### <span style=\"color:green\">RUBRIC</span>\n",
    "\n",
    "5.1 (10 points)\n",
    "  - A field is considered correct if it is close, within a rounding error\n",
    "  - Max(0, 10 - # incorrect fields)\n",
    "\n",
    "5.2 (5 points)\n",
    "  - 0 points: Blank or essentially no meaningful progress\n",
    "  - 3 points: Correct number reported or correct conceptual explanation.\n",
    "  - 5 points: Correct number reported and correct conceptual explanation.\n",
    "\n",
    "5.3 (5 points)\n",
    "  - 0 points: Blank or essentially no meaningful progress\n",
    "  - 3 points: One correct explanation\n",
    "  - 5 points: Both explanations correct\n",
    "\n",
    "5.4 (10 points)\n",
    "  - A field is considered correct if it is close, within a rounding error\n",
    "  - There are 4 fields\n",
    "  - 0 if blank, otherwise Max(0, 10 – 2 x # incorrect fields) \n",
    "\n",
    "5.5 (10 points)\n",
    "  - 0 points: Blank or essentially no meaningful progress\n",
    "  - 2 points:  There is a reasonable attempt that is significantly incorrect in any way\n",
    "  - 10 points: All fields correct within rounding error\n",
    "\n",
    "5.6 (5 points)\n",
    "  - A field is considered correct if it is close, within a rounding error (3 total fields)\n",
    "  - Max(0, 5 - 2 x # incorrect fields)\n",
    "\n",
    "5.7 (5 points)\n",
    "  - 0 points: Blank or incorrect answer\n",
    "  - 3 points: One correct reason.\n",
    "  - 5 points: Two correct reasons.\n"
   ]
  },
  {
   "cell_type": "markdown",
   "metadata": {},
   "source": [
    "### Other functions\n",
    "\n",
    "These functions are not published, thus you will not be able to re-run this code."
   ]
  },
  {
   "cell_type": "code",
   "execution_count": 25,
   "metadata": {},
   "outputs": [],
   "source": [
    "sys.path.insert(0, '../dev')\n",
    "from tradebondpair import *"
   ]
  },
  {
   "cell_type": "code",
   "execution_count": 26,
   "metadata": {},
   "outputs": [],
   "source": [
    "filepath_tsdata = f'../data/treasury_ts_2020-08-15.xlsx'\n",
    "info = pd.read_excel(filepath_tsdata,sheet_name='info',index_col=0)\n",
    "tsdata = pd.read_excel(filepath_tsdata,sheet_name='database')\n",
    "tsdata.columns = tsdata.columns.str.upper()"
   ]
  },
  {
   "cell_type": "code",
   "execution_count": 27,
   "metadata": {},
   "outputs": [],
   "source": [
    "DATE0 = '2019-08-29'\n",
    "DATE1 = '2019-10-01'"
   ]
  },
  {
   "cell_type": "markdown",
   "metadata": {},
   "source": [
    "## <span style=\"color:red\">5.1</span>"
   ]
  },
  {
   "cell_type": "code",
   "execution_count": 28,
   "metadata": {},
   "outputs": [
    {
     "data": {
      "text/html": [
       "<div>\n",
       "<style scoped>\n",
       "    .dataframe tbody tr th:only-of-type {\n",
       "        vertical-align: middle;\n",
       "    }\n",
       "\n",
       "    .dataframe tbody tr th {\n",
       "        vertical-align: top;\n",
       "    }\n",
       "\n",
       "    .dataframe thead th {\n",
       "        text-align: right;\n",
       "    }\n",
       "</style>\n",
       "<table border=\"1\" class=\"dataframe\">\n",
       "  <thead>\n",
       "    <tr style=\"text-align: right;\">\n",
       "      <th>kytreasno</th>\n",
       "      <th>204074</th>\n",
       "      <th>206169</th>\n",
       "    </tr>\n",
       "  </thead>\n",
       "  <tbody>\n",
       "    <tr>\n",
       "      <th>issue date</th>\n",
       "      <td>1990-08-15 00:00:00</td>\n",
       "      <td>2010-08-15 00:00:00</td>\n",
       "    </tr>\n",
       "    <tr>\n",
       "      <th>maturity date</th>\n",
       "      <td>2020-08-15 00:00:00</td>\n",
       "      <td>2020-08-15 00:00:00</td>\n",
       "    </tr>\n",
       "    <tr>\n",
       "      <th>coupon rate</th>\n",
       "      <td>8.75</td>\n",
       "      <td>2.625</td>\n",
       "    </tr>\n",
       "    <tr>\n",
       "      <th>type</th>\n",
       "      <td>bond</td>\n",
       "      <td>note</td>\n",
       "    </tr>\n",
       "    <tr>\n",
       "      <th>bid</th>\n",
       "      <td>106.71875</td>\n",
       "      <td>100.78125</td>\n",
       "    </tr>\n",
       "    <tr>\n",
       "      <th>ask</th>\n",
       "      <td>106.742188</td>\n",
       "      <td>100.804688</td>\n",
       "    </tr>\n",
       "    <tr>\n",
       "      <th>accrued interest</th>\n",
       "      <td>0.33288</td>\n",
       "      <td>0.099864</td>\n",
       "    </tr>\n",
       "    <tr>\n",
       "      <th>clean price</th>\n",
       "      <td>106.730469</td>\n",
       "      <td>100.792969</td>\n",
       "    </tr>\n",
       "    <tr>\n",
       "      <th>dirty price</th>\n",
       "      <td>107.063349</td>\n",
       "      <td>100.892833</td>\n",
       "    </tr>\n",
       "    <tr>\n",
       "      <th>duration</th>\n",
       "      <td>0.943518</td>\n",
       "      <td>0.957295</td>\n",
       "    </tr>\n",
       "    <tr>\n",
       "      <th>modified duration</th>\n",
       "      <td>0.935767</td>\n",
       "      <td>0.948859</td>\n",
       "    </tr>\n",
       "    <tr>\n",
       "      <th>ytm</th>\n",
       "      <td>0.016565</td>\n",
       "      <td>0.017782</td>\n",
       "    </tr>\n",
       "  </tbody>\n",
       "</table>\n",
       "</div>"
      ],
      "text/plain": [
       "kytreasno                       204074               206169\n",
       "issue date         1990-08-15 00:00:00  2010-08-15 00:00:00\n",
       "maturity date      2020-08-15 00:00:00  2020-08-15 00:00:00\n",
       "coupon rate                       8.75                2.625\n",
       "type                              bond                 note\n",
       "bid                          106.71875            100.78125\n",
       "ask                         106.742188           100.804688\n",
       "accrued interest               0.33288             0.099864\n",
       "clean price                 106.730469           100.792969\n",
       "dirty price                 107.063349           100.892833\n",
       "duration                      0.943518             0.957295\n",
       "modified duration             0.935767             0.948859\n",
       "ytm                           0.016565             0.017782"
      ]
     },
     "execution_count": 28,
     "metadata": {},
     "output_type": "execute_result"
    }
   ],
   "source": [
    "tab = get_table(info,tsdata,DATE0)\n",
    "tab"
   ]
  },
  {
   "cell_type": "markdown",
   "metadata": {},
   "source": [
    "## <span style=\"color:red\">5.2</span>"
   ]
  },
  {
   "cell_type": "code",
   "execution_count": 29,
   "metadata": {},
   "outputs": [
    {
     "data": {
      "text/plain": [
       "'Spread (bond ytm minus note ytm) is 0.12%.'"
      ]
     },
     "metadata": {},
     "output_type": "display_data"
    }
   ],
   "source": [
    "spread = tab.loc['ytm'].diff().values[1]\n",
    "display(f'Spread (bond ytm minus note ytm) is {spread:.2%}.')"
   ]
  },
  {
   "cell_type": "markdown",
   "metadata": {},
   "source": [
    "If we believe the spread will converge to zero, then we hypothesize that\n",
    "* bond YTM goes up\n",
    "* note YTM goes down\n",
    "\n",
    "**Thus, we should build a positions that goes**\n",
    "* short the bond\n",
    "* long the note"
   ]
  },
  {
   "cell_type": "code",
   "execution_count": 30,
   "metadata": {},
   "outputs": [],
   "source": [
    "keyLong = tab.loc['ytm'].astype('float64').idxmax()\n",
    "keyShort = tab.loc['ytm'].astype('float64').idxmin()"
   ]
  },
  {
   "cell_type": "markdown",
   "metadata": {},
   "source": [
    "## <span style=\"color:red\">5.3</span>"
   ]
  },
  {
   "cell_type": "markdown",
   "metadata": {},
   "source": [
    "It is **not** an arbitrage trade.\n",
    "\n",
    "The risk in the trade is that the ytm spread may diverge further.\n",
    "\n",
    "Given that the securities mature in a year, there is no guarantee or particular reason to believe convergence will happen within a month.\n",
    "\n",
    "As for the one-year horizon,\n",
    "* One could argue that it is essentially an arbitrage if **held for a year**, until maturity.\n",
    "* But one could also note it is not quite an arbitrage as there will be market microstructure / liquidity reasons that this spread will not converge to zero. (Though its lack of convergence will have little price impact as the time-to-maturity gets small.)"
   ]
  },
  {
   "cell_type": "markdown",
   "metadata": {},
   "source": [
    "## <span style=\"color:red\">5.4</span>"
   ]
  },
  {
   "cell_type": "code",
   "execution_count": 31,
   "metadata": {},
   "outputs": [],
   "source": [
    "LONGEQUITY = 1e6"
   ]
  },
  {
   "cell_type": "markdown",
   "metadata": {},
   "source": [
    "Here we make use of the function in Solution 2.\n",
    "\n",
    "To do so, set up a dataframe with the financing info. \n",
    "* haircuts are symmetric and 2\\%\n",
    "* repo rates are equal and unspecified, but cancel.\n",
    "\n",
    "But this financing dataframe is unnecessary in general and is only specified here to make quick use of a preexisting function."
   ]
  },
  {
   "cell_type": "code",
   "execution_count": 32,
   "metadata": {},
   "outputs": [
    {
     "data": {
      "text/html": [
       "<style type=\"text/css\">\n",
       "</style>\n",
       "<table id=\"T_a4110\">\n",
       "  <thead>\n",
       "    <tr>\n",
       "      <th class=\"blank level0\" >&nbsp;</th>\n",
       "      <th id=\"T_a4110_level0_col0\" class=\"col_heading level0 col0\" >equity</th>\n",
       "      <th id=\"T_a4110_level0_col1\" class=\"col_heading level0 col1\" >assets</th>\n",
       "      <th id=\"T_a4110_level0_col2\" class=\"col_heading level0 col2\" >contracts</th>\n",
       "    </tr>\n",
       "  </thead>\n",
       "  <tbody>\n",
       "    <tr>\n",
       "      <th id=\"T_a4110_level0_row0\" class=\"row_heading level0 row0\" >206169</th>\n",
       "      <td id=\"T_a4110_row0_col0\" class=\"data row0 col0\" >$1,000,000.00</td>\n",
       "      <td id=\"T_a4110_row0_col1\" class=\"data row0 col1\" >$50,000,000.00</td>\n",
       "      <td id=\"T_a4110_row0_col2\" class=\"data row0 col2\" >495,575.34</td>\n",
       "    </tr>\n",
       "    <tr>\n",
       "      <th id=\"T_a4110_level0_row1\" class=\"row_heading level0 row1\" >204074</th>\n",
       "      <td id=\"T_a4110_row1_col0\" class=\"data row1 col0\" >$-1,014,601.50</td>\n",
       "      <td id=\"T_a4110_row1_col1\" class=\"data row1 col1\" >$-50,730,074.95</td>\n",
       "      <td id=\"T_a4110_row1_col2\" class=\"data row1 col2\" >-473,832.32</td>\n",
       "    </tr>\n",
       "  </tbody>\n",
       "</table>\n"
      ],
      "text/plain": [
       "<pandas.io.formats.style.Styler at 0x133da3940>"
      ]
     },
     "execution_count": 32,
     "metadata": {},
     "output_type": "execute_result"
    }
   ],
   "source": [
    "financing = pd.DataFrame(dtype='float64',index=['long','short'])\n",
    "financing['haircut'] = [.02,.02]\n",
    "financing['repo'] = [.00,.00]\n",
    "\n",
    "balsheet, fmt = trade_balance_sheet(prices=tab.loc['dirty price'], durations=tab.loc['duration'], haircuts=financing['haircut'], long_equity=LONGEQUITY, key_long=keyLong, key_short=keyShort)\n",
    "balsheet.style.format(fmt,na_rep='')"
   ]
  },
  {
   "cell_type": "markdown",
   "metadata": {},
   "source": [
    "## <span style=\"color:red\">5.5</span>"
   ]
  },
  {
   "cell_type": "code",
   "execution_count": 33,
   "metadata": {},
   "outputs": [
    {
     "data": {
      "text/html": [
       "<style type=\"text/css\">\n",
       "</style>\n",
       "<table id=\"T_9c231\">\n",
       "  <thead>\n",
       "    <tr>\n",
       "      <th class=\"blank level0\" >&nbsp;</th>\n",
       "      <th id=\"T_9c231_level0_col0\" class=\"col_heading level0 col0\" >ytm change</th>\n",
       "      <th id=\"T_9c231_level0_col1\" class=\"col_heading level0 col1\" >modified duration</th>\n",
       "      <th id=\"T_9c231_level0_col2\" class=\"col_heading level0 col2\" >price</th>\n",
       "      <th id=\"T_9c231_level0_col3\" class=\"col_heading level0 col3\" >contracts</th>\n",
       "      <th id=\"T_9c231_level0_col4\" class=\"col_heading level0 col4\" >pnl</th>\n",
       "    </tr>\n",
       "    <tr>\n",
       "      <th class=\"index_name level0\" >kytreasno</th>\n",
       "      <th class=\"blank col0\" >&nbsp;</th>\n",
       "      <th class=\"blank col1\" >&nbsp;</th>\n",
       "      <th class=\"blank col2\" >&nbsp;</th>\n",
       "      <th class=\"blank col3\" >&nbsp;</th>\n",
       "      <th class=\"blank col4\" >&nbsp;</th>\n",
       "    </tr>\n",
       "  </thead>\n",
       "  <tbody>\n",
       "    <tr>\n",
       "      <th id=\"T_9c231_level0_row0\" class=\"row_heading level0 row0\" >204074</th>\n",
       "      <td id=\"T_9c231_row0_col0\" class=\"data row0 col0\" >-0.0050%</td>\n",
       "      <td id=\"T_9c231_row0_col1\" class=\"data row0 col1\" >0.94</td>\n",
       "      <td id=\"T_9c231_row0_col2\" class=\"data row0 col2\" >$107.06</td>\n",
       "      <td id=\"T_9c231_row0_col3\" class=\"data row0 col3\" >-473,832.32</td>\n",
       "      <td id=\"T_9c231_row0_col4\" class=\"data row0 col4\" >$-2,373.58</td>\n",
       "    </tr>\n",
       "    <tr>\n",
       "      <th id=\"T_9c231_level0_row1\" class=\"row_heading level0 row1\" >206169</th>\n",
       "      <td id=\"T_9c231_row1_col0\" class=\"data row1 col0\" >0.0050%</td>\n",
       "      <td id=\"T_9c231_row1_col1\" class=\"data row1 col1\" >0.95</td>\n",
       "      <td id=\"T_9c231_row1_col2\" class=\"data row1 col2\" >$100.89</td>\n",
       "      <td id=\"T_9c231_row1_col3\" class=\"data row1 col3\" >495,575.34</td>\n",
       "      <td id=\"T_9c231_row1_col4\" class=\"data row1 col4\" >$-2,372.15</td>\n",
       "    </tr>\n",
       "    <tr>\n",
       "      <th id=\"T_9c231_level0_row2\" class=\"row_heading level0 row2\" >total</th>\n",
       "      <td id=\"T_9c231_row2_col0\" class=\"data row2 col0\" ></td>\n",
       "      <td id=\"T_9c231_row2_col1\" class=\"data row2 col1\" ></td>\n",
       "      <td id=\"T_9c231_row2_col2\" class=\"data row2 col2\" ></td>\n",
       "      <td id=\"T_9c231_row2_col3\" class=\"data row2 col3\" ></td>\n",
       "      <td id=\"T_9c231_row2_col4\" class=\"data row2 col4\" >$-4,745.72</td>\n",
       "    </tr>\n",
       "  </tbody>\n",
       "</table>\n"
      ],
      "text/plain": [
       "<pandas.io.formats.style.Styler at 0x134437d00>"
      ]
     },
     "execution_count": 33,
     "metadata": {},
     "output_type": "execute_result"
    }
   ],
   "source": [
    "spread_convergence = .0001\n",
    "\n",
    "pnl_spread_1bp, fmt_dict = pnl_spread_trade(spread_convergence,tab.loc['modified duration'], tab.loc['dirty price'], balsheet['contracts'])\n",
    "pnl_spread_1bp.style.format(fmt_dict,na_rep='')"
   ]
  },
  {
   "cell_type": "markdown",
   "metadata": {},
   "source": [
    "### <span style=\"color:red\">Pedagogical</span>"
   ]
  },
  {
   "cell_type": "markdown",
   "metadata": {},
   "source": [
    "The table below shows the entire convergence (approximated with duration) in a table splitting out the long pnl from the short pnl."
   ]
  },
  {
   "cell_type": "code",
   "execution_count": 34,
   "metadata": {},
   "outputs": [
    {
     "data": {
      "text/html": [
       "<style type=\"text/css\">\n",
       "</style>\n",
       "<table id=\"T_e085b\">\n",
       "  <thead>\n",
       "    <tr>\n",
       "      <th class=\"blank level0\" >&nbsp;</th>\n",
       "      <th id=\"T_e085b_level0_col0\" class=\"col_heading level0 col0\" >ytm change</th>\n",
       "      <th id=\"T_e085b_level0_col1\" class=\"col_heading level0 col1\" >modified duration</th>\n",
       "      <th id=\"T_e085b_level0_col2\" class=\"col_heading level0 col2\" >price</th>\n",
       "      <th id=\"T_e085b_level0_col3\" class=\"col_heading level0 col3\" >contracts</th>\n",
       "      <th id=\"T_e085b_level0_col4\" class=\"col_heading level0 col4\" >pnl</th>\n",
       "    </tr>\n",
       "    <tr>\n",
       "      <th class=\"index_name level0\" >kytreasno</th>\n",
       "      <th class=\"blank col0\" >&nbsp;</th>\n",
       "      <th class=\"blank col1\" >&nbsp;</th>\n",
       "      <th class=\"blank col2\" >&nbsp;</th>\n",
       "      <th class=\"blank col3\" >&nbsp;</th>\n",
       "      <th class=\"blank col4\" >&nbsp;</th>\n",
       "    </tr>\n",
       "  </thead>\n",
       "  <tbody>\n",
       "    <tr>\n",
       "      <th id=\"T_e085b_level0_row0\" class=\"row_heading level0 row0\" >204074</th>\n",
       "      <td id=\"T_e085b_row0_col0\" class=\"data row0 col0\" >-0.0608%</td>\n",
       "      <td id=\"T_e085b_row0_col1\" class=\"data row0 col1\" >0.94</td>\n",
       "      <td id=\"T_e085b_row0_col2\" class=\"data row0 col2\" >$107.06</td>\n",
       "      <td id=\"T_e085b_row0_col3\" class=\"data row0 col3\" >-473,832.32</td>\n",
       "      <td id=\"T_e085b_row0_col4\" class=\"data row0 col4\" >$-28,868.89</td>\n",
       "    </tr>\n",
       "    <tr>\n",
       "      <th id=\"T_e085b_level0_row1\" class=\"row_heading level0 row1\" >206169</th>\n",
       "      <td id=\"T_e085b_row1_col0\" class=\"data row1 col0\" >0.0608%</td>\n",
       "      <td id=\"T_e085b_row1_col1\" class=\"data row1 col1\" >0.95</td>\n",
       "      <td id=\"T_e085b_row1_col2\" class=\"data row1 col2\" >$100.89</td>\n",
       "      <td id=\"T_e085b_row1_col3\" class=\"data row1 col3\" >495,575.34</td>\n",
       "      <td id=\"T_e085b_row1_col4\" class=\"data row1 col4\" >$-28,851.49</td>\n",
       "    </tr>\n",
       "    <tr>\n",
       "      <th id=\"T_e085b_level0_row2\" class=\"row_heading level0 row2\" >total</th>\n",
       "      <td id=\"T_e085b_row2_col0\" class=\"data row2 col0\" ></td>\n",
       "      <td id=\"T_e085b_row2_col1\" class=\"data row2 col1\" ></td>\n",
       "      <td id=\"T_e085b_row2_col2\" class=\"data row2 col2\" ></td>\n",
       "      <td id=\"T_e085b_row2_col3\" class=\"data row2 col3\" ></td>\n",
       "      <td id=\"T_e085b_row2_col4\" class=\"data row2 col4\" >$-57,720.38</td>\n",
       "    </tr>\n",
       "  </tbody>\n",
       "</table>\n"
      ],
      "text/plain": [
       "<pandas.io.formats.style.Styler at 0x134430a90>"
      ]
     },
     "execution_count": 34,
     "metadata": {},
     "output_type": "execute_result"
    }
   ],
   "source": [
    "spread_convergence = tab.loc['ytm'].diff().dropna().abs().values[0]\n",
    "\n",
    "pnl_spread_converges, fmt_dict = pnl_spread_trade(spread_convergence,tab.loc['modified duration'], tab.loc['dirty price'], balsheet['contracts'])\n",
    "pnl_spread_converges.style.format(fmt_dict,na_rep='')"
   ]
  },
  {
   "cell_type": "markdown",
   "metadata": {},
   "source": [
    "### <span style=\"color:red\">Pedagogical</span>"
   ]
  },
  {
   "cell_type": "markdown",
   "metadata": {},
   "source": [
    "The plot below shows how the actual spread evolved."
   ]
  },
  {
   "cell_type": "code",
   "execution_count": 35,
   "metadata": {},
   "outputs": [
    {
     "data": {
      "image/png": "[encoded data removed]",
      "text/plain": [
       "<Figure size 864x432 with 1 Axes>"
      ]
     },
     "metadata": {
      "needs_background": "light"
     },
     "output_type": "display_data"
    }
   ],
   "source": [
    "spread = get_spread_bps(tsdata)\n",
    "spread = spread[keyLong]\n",
    "spread.rename('ytm spread (bps)',inplace=True)\n",
    "spread.loc[DATE0:DATE1].plot(ylabel='bps',title='YTM spread (bps)');"
   ]
  },
  {
   "cell_type": "markdown",
   "metadata": {},
   "source": [
    "## <span style=\"color:red\">5.6</span>"
   ]
  },
  {
   "cell_type": "markdown",
   "metadata": {},
   "source": [
    "The data on the final date:"
   ]
  },
  {
   "cell_type": "code",
   "execution_count": 36,
   "metadata": {},
   "outputs": [
    {
     "data": {
      "text/html": [
       "<div>\n",
       "<style scoped>\n",
       "    .dataframe tbody tr th:only-of-type {\n",
       "        vertical-align: middle;\n",
       "    }\n",
       "\n",
       "    .dataframe tbody tr th {\n",
       "        vertical-align: top;\n",
       "    }\n",
       "\n",
       "    .dataframe thead th {\n",
       "        text-align: right;\n",
       "    }\n",
       "</style>\n",
       "<table border=\"1\" class=\"dataframe\">\n",
       "  <thead>\n",
       "    <tr style=\"text-align: right;\">\n",
       "      <th>kytreasno</th>\n",
       "      <th>204074</th>\n",
       "      <th>206169</th>\n",
       "    </tr>\n",
       "  </thead>\n",
       "  <tbody>\n",
       "    <tr>\n",
       "      <th>issue date</th>\n",
       "      <td>1990-08-15 00:00:00</td>\n",
       "      <td>2010-08-15 00:00:00</td>\n",
       "    </tr>\n",
       "    <tr>\n",
       "      <th>maturity date</th>\n",
       "      <td>2020-08-15 00:00:00</td>\n",
       "      <td>2020-08-15 00:00:00</td>\n",
       "    </tr>\n",
       "    <tr>\n",
       "      <th>coupon rate</th>\n",
       "      <td>8.75</td>\n",
       "      <td>2.625</td>\n",
       "    </tr>\n",
       "    <tr>\n",
       "      <th>type</th>\n",
       "      <td>bond</td>\n",
       "      <td>note</td>\n",
       "    </tr>\n",
       "    <tr>\n",
       "      <th>bid</th>\n",
       "      <td>105.960938</td>\n",
       "      <td>100.679688</td>\n",
       "    </tr>\n",
       "    <tr>\n",
       "      <th>ask</th>\n",
       "      <td>105.984375</td>\n",
       "      <td>100.710938</td>\n",
       "    </tr>\n",
       "    <tr>\n",
       "      <th>accrued interest</th>\n",
       "      <td>1.117527</td>\n",
       "      <td>0.335258</td>\n",
       "    </tr>\n",
       "    <tr>\n",
       "      <th>clean price</th>\n",
       "      <td>105.972656</td>\n",
       "      <td>100.695312</td>\n",
       "    </tr>\n",
       "    <tr>\n",
       "      <th>dirty price</th>\n",
       "      <td>107.090183</td>\n",
       "      <td>101.030571</td>\n",
       "    </tr>\n",
       "    <tr>\n",
       "      <th>duration</th>\n",
       "      <td>0.853155</td>\n",
       "      <td>0.866945</td>\n",
       "    </tr>\n",
       "    <tr>\n",
       "      <th>modified duration</th>\n",
       "      <td>0.845534</td>\n",
       "      <td>0.859186</td>\n",
       "    </tr>\n",
       "    <tr>\n",
       "      <th>ytm</th>\n",
       "      <td>0.018026</td>\n",
       "      <td>0.018061</td>\n",
       "    </tr>\n",
       "  </tbody>\n",
       "</table>\n",
       "</div>"
      ],
      "text/plain": [
       "kytreasno                       204074               206169\n",
       "issue date         1990-08-15 00:00:00  2010-08-15 00:00:00\n",
       "maturity date      2020-08-15 00:00:00  2020-08-15 00:00:00\n",
       "coupon rate                       8.75                2.625\n",
       "type                              bond                 note\n",
       "bid                         105.960938           100.679688\n",
       "ask                         105.984375           100.710938\n",
       "accrued interest              1.117527             0.335258\n",
       "clean price                 105.972656           100.695312\n",
       "dirty price                 107.090183           101.030571\n",
       "duration                      0.853155             0.866945\n",
       "modified duration             0.845534             0.859186\n",
       "ytm                           0.018026             0.018061"
      ]
     },
     "execution_count": 36,
     "metadata": {},
     "output_type": "execute_result"
    }
   ],
   "source": [
    "tab_final = get_table(info,tsdata,DATE1)\n",
    "tab_final"
   ]
  },
  {
   "cell_type": "code",
   "execution_count": 37,
   "metadata": {},
   "outputs": [],
   "source": [
    "prices = pd.concat([tab.loc['dirty price'], tab_final.loc['dirty price']],axis=1)"
   ]
  },
  {
   "cell_type": "code",
   "execution_count": 38,
   "metadata": {},
   "outputs": [
    {
     "data": {
      "text/html": [
       "<style type=\"text/css\">\n",
       "</style>\n",
       "<table id=\"T_994c5\">\n",
       "  <thead>\n",
       "    <tr>\n",
       "      <th class=\"blank level0\" >&nbsp;</th>\n",
       "      <th id=\"T_994c5_level0_col0\" class=\"col_heading level0 col0\" >contracts</th>\n",
       "      <th id=\"T_994c5_level0_col1\" class=\"col_heading level0 col1\" >change in price</th>\n",
       "      <th id=\"T_994c5_level0_col2\" class=\"col_heading level0 col2\" >pnl</th>\n",
       "    </tr>\n",
       "  </thead>\n",
       "  <tbody>\n",
       "    <tr>\n",
       "      <th id=\"T_994c5_level0_row0\" class=\"row_heading level0 row0\" >206169</th>\n",
       "      <td id=\"T_994c5_row0_col0\" class=\"data row0 col0\" >495,575.34</td>\n",
       "      <td id=\"T_994c5_row0_col1\" class=\"data row0 col1\" >0.14</td>\n",
       "      <td id=\"T_994c5_row0_col2\" class=\"data row0 col2\" >$68,259.44</td>\n",
       "    </tr>\n",
       "    <tr>\n",
       "      <th id=\"T_994c5_level0_row1\" class=\"row_heading level0 row1\" >204074</th>\n",
       "      <td id=\"T_994c5_row1_col0\" class=\"data row1 col0\" >-473,832.32</td>\n",
       "      <td id=\"T_994c5_row1_col1\" class=\"data row1 col1\" >0.03</td>\n",
       "      <td id=\"T_994c5_row1_col2\" class=\"data row1 col2\" >$-12,714.93</td>\n",
       "    </tr>\n",
       "    <tr>\n",
       "      <th id=\"T_994c5_level0_row2\" class=\"row_heading level0 row2\" >total</th>\n",
       "      <td id=\"T_994c5_row2_col0\" class=\"data row2 col0\" ></td>\n",
       "      <td id=\"T_994c5_row2_col1\" class=\"data row2 col1\" ></td>\n",
       "      <td id=\"T_994c5_row2_col2\" class=\"data row2 col2\" >$55,544.51</td>\n",
       "    </tr>\n",
       "  </tbody>\n",
       "</table>\n"
      ],
      "text/plain": [
       "<pandas.io.formats.style.Styler at 0x134430520>"
      ]
     },
     "execution_count": 38,
     "metadata": {},
     "output_type": "execute_result"
    }
   ],
   "source": [
    "pnl = pd.concat([balsheet['contracts'],tab_final.loc['dirty price']-tab.loc['dirty price']],axis=1).rename(columns={'dirty price':'change in price'})\n",
    "pnl['pnl'] = pnl['contracts'] * pnl['change in price']\n",
    "pnl.loc['total','pnl'] = pnl['pnl'].sum()\n",
    "pnl.style.format({'contracts':'{:,.2f}','change in price':'{:.2f}','pnl':'${:,.2f}'},na_rep='')"
   ]
  },
  {
   "cell_type": "markdown",
   "metadata": {},
   "source": [
    "### <span style=\"color:red\">Pedagogical: Return on equity</span>"
   ]
  },
  {
   "cell_type": "code",
   "execution_count": 39,
   "metadata": {},
   "outputs": [
    {
     "data": {
      "text/plain": [
       "'Total return over ~ 1 month on initial gross assets is 2.76%.'"
      ]
     },
     "metadata": {},
     "output_type": "display_data"
    }
   ],
   "source": [
    "roe = pnl.loc['total','pnl'] / balsheet['equity'].abs().sum()\n",
    "\n",
    "display(f'Total return over ~ 1 month on initial gross assets is {roe:.2%}.')"
   ]
  },
  {
   "cell_type": "markdown",
   "metadata": {},
   "source": [
    "## <span style=\"color:red\">5.7</span>"
   ]
  },
  {
   "cell_type": "markdown",
   "metadata": {},
   "source": [
    "The PnL approximated by duration will not exactly align with the PnL realized on 2019-10-01 even though the spread largely converges.\n",
    "\n",
    "Differences will persist for a few reasons:\n",
    "* Duration is a linear approximation to the pricing--it ignores nonlinearity, (part of which would be captured by convexity.)\n",
    "* Duration changes over time. The measured duration at the start of the period applies for that particular level of rates and that time-to-maturity. As each of these parameters change, the expected P"
   ]
  }
 ],
 "metadata": {
  "hide_input": false,
  "kernelspec": {
   "display_name": "Python 3 (ipykernel)",
   "language": "python",
   "name": "python3"
  },
  "language_info": {
   "codemirror_mode": {
    "name": "ipython",
    "version": 3
   },
   "file_extension": ".py",
   "mimetype": "text/x-python",
   "name": "python",
   "nbconvert_exporter": "python",
   "pygments_lexer": "ipython3",
   "version": "3.9.7"
  }
 },
 "nbformat": 4,
 "nbformat_minor": 4
}
